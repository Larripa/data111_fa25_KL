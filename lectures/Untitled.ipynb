{
 "cells": [
  {
   "cell_type": "markdown",
   "id": "5b95b100-3fc2-4eb5-ac9e-707a1a20b312",
   "metadata": {},
   "source": [
    "| Age | Height (cm) | Weight (kg) |\n",
    "|-----|-------------|-------------|\n",
    "| 23  | 170         | 65          |\n",
    "| 24  | 165         | 62          |\n",
    "| 25  | NaN         | 70          |\n",
    "| 26  | 180         | 75          |\n",
    "| 22  | 160         | 60          |\n",
    "| 28  | 175         | 73          |\n",
    "| 29  | 178         | 77          |\n",
    "| 30  | NaN         | 80          |\n",
    "| 27  | 172         | 72          |\n",
    "| 31  | 168         | 74          |\n",
    "| 33  | 169         | 76          |\n",
    "| 21  | 164         | 61          |\n",
    "| 35  | 181         | 82          |\n"
   ]
  },
  {
   "cell_type": "markdown",
   "id": "cf3c3ed5-6048-4540-926a-42e6525736f6",
   "metadata": {},
   "source": [
    "| Age | Gender | Income ($) |\n",
    "|-----|--------|------------|\n",
    "| 22  | Male   | NaN        |\n",
    "| 35  | Female | 95,000     |\n",
    "| 29  | Male   | NaN        |\n",
    "| 60  | Female | 82,000     |\n",
    "| 31  | Male   | NaN        |\n",
    "| 42  | Female | 79,500     |\n",
    "| 27  | Male   | 78,000     |\n",
    "| 38  | Female | NaN        |\n",
    "| 40  | Male   | NaN        |\n",
    "| 36  | Female | 51,200     |\n",
    "| 34  | Male   | 120,000    |\n",
    "| 55  | Female | 60,000     |\n",
    "| 45  | Male   | NaN        |\n"
   ]
  },
  {
   "cell_type": "code",
   "execution_count": null,
   "id": "d997b28e-118e-48b4-a2b7-c30cf2d20c3f",
   "metadata": {},
   "outputs": [],
   "source": []
  }
 ],
 "metadata": {
  "kernelspec": {
   "display_name": "Python 3 (ipykernel)",
   "language": "python",
   "name": "python3"
  },
  "language_info": {
   "codemirror_mode": {
    "name": "ipython",
    "version": 3
   },
   "file_extension": ".py",
   "mimetype": "text/x-python",
   "name": "python",
   "nbconvert_exporter": "python",
   "pygments_lexer": "ipython3",
   "version": "3.11.4"
  }
 },
 "nbformat": 4,
 "nbformat_minor": 5
}
