{
 "cells": [
  {
   "cell_type": "markdown",
   "metadata": {},
   "source": [
    "If you want to type along with me, head to [this notebook](https://humboldt.cloudbank.2i2c.cloud/hub/user-redirect/git-pull?repo=https%3A%2F%2Fgithub.com%2Fbethanyj0%2Fdata111_fa24&branch=main&urlpath=tree%2Fdata111_fa24%2Flectures%2Flec18_live.ipynb) instead. If you prefer follow along by executing the cells, stay in this notebook."
   ]
  },
  {
   "cell_type": "code",
   "execution_count": 1,
   "metadata": {},
   "outputs": [],
   "source": [
    "from datascience import *\n",
    "import numpy as np\n",
    "\n",
    "%matplotlib inline\n",
    "import matplotlib.pyplot as plots\n",
    "plots.style.use('fivethirtyeight')"
   ]
  },
  {
   "cell_type": "markdown",
   "metadata": {},
   "source": [
    "## Alameda County Jury Panels ##"
   ]
  },
  {
   "cell_type": "code",
   "execution_count": 2,
   "metadata": {},
   "outputs": [
    {
     "data": {
      "text/html": [
       "<table border=\"1\" class=\"dataframe\">\n",
       "    <thead>\n",
       "        <tr>\n",
       "            <th>Ethnicity</th> <th>Eligible</th> <th>Panels</th>\n",
       "        </tr>\n",
       "    </thead>\n",
       "    <tbody>\n",
       "        <tr>\n",
       "            <td>Asian    </td> <td>0.15    </td> <td>0.26  </td>\n",
       "        </tr>\n",
       "        <tr>\n",
       "            <td>Black    </td> <td>0.18    </td> <td>0.08  </td>\n",
       "        </tr>\n",
       "        <tr>\n",
       "            <td>Latino   </td> <td>0.12    </td> <td>0.08  </td>\n",
       "        </tr>\n",
       "        <tr>\n",
       "            <td>White    </td> <td>0.54    </td> <td>0.54  </td>\n",
       "        </tr>\n",
       "        <tr>\n",
       "            <td>Other    </td> <td>0.01    </td> <td>0.04  </td>\n",
       "        </tr>\n",
       "    </tbody>\n",
       "</table>"
      ],
      "text/plain": [
       "Ethnicity | Eligible | Panels\n",
       "Asian     | 0.15     | 0.26\n",
       "Black     | 0.18     | 0.08\n",
       "Latino    | 0.12     | 0.08\n",
       "White     | 0.54     | 0.54\n",
       "Other     | 0.01     | 0.04"
      ]
     },
     "execution_count": 2,
     "metadata": {},
     "output_type": "execute_result"
    }
   ],
   "source": [
    "jury = Table().with_columns(\n",
    "    'Ethnicity', make_array('Asian', 'Black', 'Latino', 'White', 'Other'),\n",
    "    'Eligible', make_array(0.15, 0.18, 0.12, 0.54, 0.01),\n",
    "    'Panels', make_array(0.26, 0.08, 0.08, 0.54, 0.04)\n",
    ")\n",
    "\n",
    "jury"
   ]
  },
  {
   "cell_type": "code",
   "execution_count": 3,
   "metadata": {},
   "outputs": [
    {
     "data": {
      "image/png": "[encoded data removed]",
      "text/plain": [
       "<Figure size 600x400 with 1 Axes>"
      ]
     },
     "metadata": {},
     "output_type": "display_data"
    }
   ],
   "source": [
    "jury.barh('Ethnicity')"
   ]
  },
  {
   "cell_type": "code",
   "execution_count": 4,
   "metadata": {},
   "outputs": [
    {
     "data": {
      "text/plain": [
       "array([ 0.15,  0.18,  0.12,  0.54,  0.01])"
      ]
     },
     "execution_count": 4,
     "metadata": {},
     "output_type": "execute_result"
    }
   ],
   "source": [
    "# Under the model, this is the true distribution of people\n",
    "# from which the jurors are randomly sampled\n",
    "model = jury.column('Eligible')\n",
    "model"
   ]
  },
  {
   "cell_type": "code",
   "execution_count": 5,
   "metadata": {},
   "outputs": [
    {
     "data": {
      "text/plain": [
       "array([ 0.14265636,  0.18341532,  0.13422347,  0.52986648,  0.00983837])"
      ]
     },
     "execution_count": 5,
     "metadata": {},
     "output_type": "execute_result"
    }
   ],
   "source": [
    "# Let's simulate a random draw of 1423 jurors from this distribution\n",
    "simulated = sample_proportions(1423, model)\n",
    "simulated"
   ]
  },
  {
   "cell_type": "code",
   "execution_count": 6,
   "metadata": {},
   "outputs": [
    {
     "data": {
      "text/html": [
       "<table border=\"1\" class=\"dataframe\">\n",
       "    <thead>\n",
       "        <tr>\n",
       "            <th>Ethnicity</th> <th>Eligible</th> <th>Panels</th> <th>Simulated</th>\n",
       "        </tr>\n",
       "    </thead>\n",
       "    <tbody>\n",
       "        <tr>\n",
       "            <td>Asian    </td> <td>0.15    </td> <td>0.26  </td> <td>0.142656  </td>\n",
       "        </tr>\n",
       "        <tr>\n",
       "            <td>Black    </td> <td>0.18    </td> <td>0.08  </td> <td>0.183415  </td>\n",
       "        </tr>\n",
       "        <tr>\n",
       "            <td>Latino   </td> <td>0.12    </td> <td>0.08  </td> <td>0.134223  </td>\n",
       "        </tr>\n",
       "        <tr>\n",
       "            <td>White    </td> <td>0.54    </td> <td>0.54  </td> <td>0.529866  </td>\n",
       "        </tr>\n",
       "        <tr>\n",
       "            <td>Other    </td> <td>0.01    </td> <td>0.04  </td> <td>0.00983837</td>\n",
       "        </tr>\n",
       "    </tbody>\n",
       "</table>"
      ],
      "text/plain": [
       "Ethnicity | Eligible | Panels | Simulated\n",
       "Asian     | 0.15     | 0.26   | 0.142656\n",
       "Black     | 0.18     | 0.08   | 0.183415\n",
       "Latino    | 0.12     | 0.08   | 0.134223\n",
       "White     | 0.54     | 0.54   | 0.529866\n",
       "Other     | 0.01     | 0.04   | 0.00983837"
      ]
     },
     "execution_count": 6,
     "metadata": {},
     "output_type": "execute_result"
    }
   ],
   "source": [
    "# The actual observed distribution (Panels) looks quite different\n",
    "# from the simulation -- try running this several times to confirm!\n",
    "jury_with_simulated = jury.with_column('Simulated', simulated)\n",
    "jury_with_simulated"
   ]
  },
  {
   "cell_type": "code",
   "execution_count": 7,
   "metadata": {},
   "outputs": [
    {
     "data": {
      "image/png": "[encoded data removed]",
      "text/plain": [
       "<Figure size 600x400 with 1 Axes>"
      ]
     },
     "metadata": {},
     "output_type": "display_data"
    }
   ],
   "source": [
    "jury_with_simulated.barh('Ethnicity')"
   ]
  },
  {
   "cell_type": "markdown",
   "metadata": {},
   "source": [
    "## Distance Between Distributions"
   ]
  },
  {
   "cell_type": "code",
   "execution_count": 8,
   "metadata": {},
   "outputs": [
    {
     "data": {
      "text/html": [
       "<table border=\"1\" class=\"dataframe\">\n",
       "    <thead>\n",
       "        <tr>\n",
       "            <th>Ethnicity</th> <th>Eligible</th> <th>Panels</th> <th>Difference</th>\n",
       "        </tr>\n",
       "    </thead>\n",
       "    <tbody>\n",
       "        <tr>\n",
       "            <td>Asian    </td> <td>0.15    </td> <td>0.26  </td> <td>0.11      </td>\n",
       "        </tr>\n",
       "        <tr>\n",
       "            <td>Black    </td> <td>0.18    </td> <td>0.08  </td> <td>-0.1      </td>\n",
       "        </tr>\n",
       "        <tr>\n",
       "            <td>Latino   </td> <td>0.12    </td> <td>0.08  </td> <td>-0.04     </td>\n",
       "        </tr>\n",
       "        <tr>\n",
       "            <td>White    </td> <td>0.54    </td> <td>0.54  </td> <td>0         </td>\n",
       "        </tr>\n",
       "        <tr>\n",
       "            <td>Other    </td> <td>0.01    </td> <td>0.04  </td> <td>0.03      </td>\n",
       "        </tr>\n",
       "    </tbody>\n",
       "</table>"
      ],
      "text/plain": [
       "Ethnicity | Eligible | Panels | Difference\n",
       "Asian     | 0.15     | 0.26   | 0.11\n",
       "Black     | 0.18     | 0.08   | -0.1\n",
       "Latino    | 0.12     | 0.08   | -0.04\n",
       "White     | 0.54     | 0.54   | 0\n",
       "Other     | 0.01     | 0.04   | 0.03"
      ]
     },
     "execution_count": 8,
     "metadata": {},
     "output_type": "execute_result"
    }
   ],
   "source": [
    "#  In the Mendel model from before, the difference between observed white/purple\n",
    "# and their expected values (25%/75%) was our statistic.\n",
    "#\n",
    "# In this case, we need to understand how each of the 5 categories\n",
    "# differ from their expected values according to the model.\n",
    "\n",
    "diffs = jury.column('Panels') - jury.column('Eligible')\n",
    "jury_with_difference = jury.with_column('Difference', diffs)\n",
    "jury_with_difference"
   ]
  },
  {
   "cell_type": "markdown",
   "metadata": {},
   "source": [
    "## Total Variation Distance"
   ]
  },
  {
   "cell_type": "code",
   "execution_count": 9,
   "metadata": {},
   "outputs": [],
   "source": [
    "def tvd(dist1, dist2):\n",
    "    return sum(abs(dist1 - dist2))/2"
   ]
  },
  {
   "cell_type": "code",
   "execution_count": 10,
   "metadata": {},
   "outputs": [
    {
     "data": {
      "text/plain": [
       "0.14000000000000001"
      ]
     },
     "execution_count": 10,
     "metadata": {},
     "output_type": "execute_result"
    }
   ],
   "source": [
    "# The TVD of our observed data (Panels) from their expected values\n",
    "# assuming the model is true (Eligbible)\n",
    "obsvd_tvd = tvd(jury.column('Panels'), jury.column('Eligible'))\n",
    "obsvd_tvd"
   ]
  },
  {
   "cell_type": "code",
   "execution_count": 11,
   "metadata": {},
   "outputs": [
    {
     "data": {
      "text/plain": [
       "0.01585382993675339"
      ]
     },
     "execution_count": 11,
     "metadata": {},
     "output_type": "execute_result"
    }
   ],
   "source": [
    "# The TVD of a model simluation from its expected values\n",
    "tvd(sample_proportions(1423, model), model)"
   ]
  },
  {
   "cell_type": "code",
   "execution_count": 12,
   "metadata": {},
   "outputs": [],
   "source": [
    "def simulated_tvd():\n",
    "    return tvd(sample_proportions(1423, model), model)\n",
    "\n",
    "tvds = make_array()\n",
    "\n",
    "num_simulations = 10000\n",
    "for i in np.arange(num_simulations):\n",
    "    new_tvd = simulated_tvd()\n",
    "    tvds = np.append(tvds, new_tvd)"
   ]
  },
  {
   "cell_type": "code",
   "execution_count": 18,
   "metadata": {},
   "outputs": [
    {
     "name": "stdout",
     "output_type": "stream",
     "text": [
      "Observed TVD: 0.14\n"
     ]
    },
    {
     "data": {
      "text/plain": [
       "<matplotlib.collections.PathCollection at 0x14fd88050>"
      ]
     },
     "execution_count": 18,
     "metadata": {},
     "output_type": "execute_result"
    },
    {
     "data": {
      "image/png": "[encoded data removed]",
      "text/plain": [
       "<Figure size 600x400 with 1 Axes>"
      ]
     },
     "metadata": {},
     "output_type": "display_data"
    }
   ],
   "source": [
    "title = 'Simulated TVDs (if model is true)'\n",
    "bins = np.arange(0, .05, .005)\n",
    "\n",
    "Table().with_column(title, tvds).hist(bins = bins)\n",
    "print('Observed TVD: ' + str(obsvd_tvd))\n",
    "plots.scatter(0.14,1.3,color='r',s=30)"
   ]
  },
  {
   "cell_type": "markdown",
   "metadata": {},
   "source": [
    "## The Instructor's Defense ##"
   ]
  },
  {
   "cell_type": "code",
   "execution_count": 19,
   "metadata": {
    "scrolled": true
   },
   "outputs": [
    {
     "data": {
      "text/html": [
       "<table border=\"1\" class=\"dataframe\">\n",
       "    <thead>\n",
       "        <tr>\n",
       "            <th>Section</th> <th>Midterm</th>\n",
       "        </tr>\n",
       "    </thead>\n",
       "    <tbody>\n",
       "        <tr>\n",
       "            <td>1      </td> <td>22     </td>\n",
       "        </tr>\n",
       "        <tr>\n",
       "            <td>2      </td> <td>12     </td>\n",
       "        </tr>\n",
       "        <tr>\n",
       "            <td>2      </td> <td>23     </td>\n",
       "        </tr>\n",
       "        <tr>\n",
       "            <td>2      </td> <td>14     </td>\n",
       "        </tr>\n",
       "        <tr>\n",
       "            <td>1      </td> <td>20     </td>\n",
       "        </tr>\n",
       "        <tr>\n",
       "            <td>3      </td> <td>25     </td>\n",
       "        </tr>\n",
       "        <tr>\n",
       "            <td>4      </td> <td>19     </td>\n",
       "        </tr>\n",
       "        <tr>\n",
       "            <td>1      </td> <td>24     </td>\n",
       "        </tr>\n",
       "        <tr>\n",
       "            <td>5      </td> <td>8      </td>\n",
       "        </tr>\n",
       "        <tr>\n",
       "            <td>6      </td> <td>14     </td>\n",
       "        </tr>\n",
       "    </tbody>\n",
       "</table>\n",
       "<p>... (349 rows omitted)</p>"
      ],
      "text/plain": [
       "Section | Midterm\n",
       "1       | 22\n",
       "2       | 12\n",
       "2       | 23\n",
       "2       | 14\n",
       "1       | 20\n",
       "3       | 25\n",
       "4       | 19\n",
       "1       | 24\n",
       "5       | 8\n",
       "6       | 14\n",
       "... (349 rows omitted)"
      ]
     },
     "execution_count": 19,
     "metadata": {},
     "output_type": "execute_result"
    }
   ],
   "source": [
    "scores = Table.read_table('scores_by_section.csv')\n",
    "scores"
   ]
  },
  {
   "cell_type": "code",
   "execution_count": 20,
   "metadata": {},
   "outputs": [
    {
     "data": {
      "text/html": [
       "<table border=\"1\" class=\"dataframe\">\n",
       "    <thead>\n",
       "        <tr>\n",
       "            <th>Section</th> <th>count</th>\n",
       "        </tr>\n",
       "    </thead>\n",
       "    <tbody>\n",
       "        <tr>\n",
       "            <td>1      </td> <td>32   </td>\n",
       "        </tr>\n",
       "        <tr>\n",
       "            <td>2      </td> <td>32   </td>\n",
       "        </tr>\n",
       "        <tr>\n",
       "            <td>3      </td> <td>27   </td>\n",
       "        </tr>\n",
       "        <tr>\n",
       "            <td>4      </td> <td>30   </td>\n",
       "        </tr>\n",
       "        <tr>\n",
       "            <td>5      </td> <td>33   </td>\n",
       "        </tr>\n",
       "        <tr>\n",
       "            <td>6      </td> <td>32   </td>\n",
       "        </tr>\n",
       "        <tr>\n",
       "            <td>7      </td> <td>24   </td>\n",
       "        </tr>\n",
       "        <tr>\n",
       "            <td>8      </td> <td>29   </td>\n",
       "        </tr>\n",
       "        <tr>\n",
       "            <td>9      </td> <td>30   </td>\n",
       "        </tr>\n",
       "        <tr>\n",
       "            <td>10     </td> <td>34   </td>\n",
       "        </tr>\n",
       "    </tbody>\n",
       "</table>\n",
       "<p>... (2 rows omitted)</p>"
      ],
      "text/plain": [
       "Section | count\n",
       "1       | 32\n",
       "2       | 32\n",
       "3       | 27\n",
       "4       | 30\n",
       "5       | 33\n",
       "6       | 32\n",
       "7       | 24\n",
       "8       | 29\n",
       "9       | 30\n",
       "10      | 34\n",
       "... (2 rows omitted)"
      ]
     },
     "execution_count": 20,
     "metadata": {},
     "output_type": "execute_result"
    }
   ],
   "source": [
    "scores.group('Section')"
   ]
  },
  {
   "cell_type": "code",
   "execution_count": 21,
   "metadata": {},
   "outputs": [
    {
     "data": {
      "text/html": [
       "<table border=\"1\" class=\"dataframe\">\n",
       "    <thead>\n",
       "        <tr>\n",
       "            <th>Section</th> <th>Midterm average</th>\n",
       "        </tr>\n",
       "    </thead>\n",
       "    <tbody>\n",
       "        <tr>\n",
       "            <td>1      </td> <td>15.5938        </td>\n",
       "        </tr>\n",
       "        <tr>\n",
       "            <td>2      </td> <td>15.125         </td>\n",
       "        </tr>\n",
       "        <tr>\n",
       "            <td>3      </td> <td>13.6667        </td>\n",
       "        </tr>\n",
       "        <tr>\n",
       "            <td>4      </td> <td>14.7667        </td>\n",
       "        </tr>\n",
       "        <tr>\n",
       "            <td>5      </td> <td>17.4545        </td>\n",
       "        </tr>\n",
       "        <tr>\n",
       "            <td>6      </td> <td>15.0312        </td>\n",
       "        </tr>\n",
       "        <tr>\n",
       "            <td>7      </td> <td>16.625         </td>\n",
       "        </tr>\n",
       "        <tr>\n",
       "            <td>8      </td> <td>16.3103        </td>\n",
       "        </tr>\n",
       "        <tr>\n",
       "            <td>9      </td> <td>14.5667        </td>\n",
       "        </tr>\n",
       "        <tr>\n",
       "            <td>10     </td> <td>15.2353        </td>\n",
       "        </tr>\n",
       "        <tr>\n",
       "            <td>11     </td> <td>15.8077        </td>\n",
       "        </tr>\n",
       "        <tr>\n",
       "            <td>12     </td> <td>15.7333        </td>\n",
       "        </tr>\n",
       "    </tbody>\n",
       "</table>"
      ],
      "text/plain": [
       "<IPython.core.display.HTML object>"
      ]
     },
     "metadata": {},
     "output_type": "display_data"
    }
   ],
   "source": [
    "scores.group('Section', np.average).show()"
   ]
  },
  {
   "cell_type": "code",
   "execution_count": 22,
   "metadata": {},
   "outputs": [],
   "source": [
    "observed_average = 13.6667 "
   ]
  },
  {
   "cell_type": "code",
   "execution_count": 23,
   "metadata": {},
   "outputs": [
    {
     "data": {
      "text/html": [
       "<table border=\"1\" class=\"dataframe\">\n",
       "    <thead>\n",
       "        <tr>\n",
       "            <th>Section</th> <th>Midterm</th>\n",
       "        </tr>\n",
       "    </thead>\n",
       "    <tbody>\n",
       "        <tr>\n",
       "            <td>9      </td> <td>17     </td>\n",
       "        </tr>\n",
       "        <tr>\n",
       "            <td>8      </td> <td>15     </td>\n",
       "        </tr>\n",
       "        <tr>\n",
       "            <td>2      </td> <td>23     </td>\n",
       "        </tr>\n",
       "        <tr>\n",
       "            <td>8      </td> <td>21     </td>\n",
       "        </tr>\n",
       "        <tr>\n",
       "            <td>7      </td> <td>25     </td>\n",
       "        </tr>\n",
       "        <tr>\n",
       "            <td>11     </td> <td>15     </td>\n",
       "        </tr>\n",
       "        <tr>\n",
       "            <td>2      </td> <td>17     </td>\n",
       "        </tr>\n",
       "        <tr>\n",
       "            <td>11     </td> <td>19     </td>\n",
       "        </tr>\n",
       "        <tr>\n",
       "            <td>8      </td> <td>22     </td>\n",
       "        </tr>\n",
       "        <tr>\n",
       "            <td>7      </td> <td>21     </td>\n",
       "        </tr>\n",
       "    </tbody>\n",
       "</table>\n",
       "<p>... (17 rows omitted)</p>"
      ],
      "text/plain": [
       "Section | Midterm\n",
       "9       | 17\n",
       "8       | 15\n",
       "2       | 23\n",
       "8       | 21\n",
       "7       | 25\n",
       "11      | 15\n",
       "2       | 17\n",
       "11      | 19\n",
       "8       | 22\n",
       "7       | 21\n",
       "... (17 rows omitted)"
      ]
     },
     "execution_count": 23,
     "metadata": {},
     "output_type": "execute_result"
    }
   ],
   "source": [
    "random_sample = scores.sample(27, with_replacement=False)\n",
    "random_sample"
   ]
  },
  {
   "cell_type": "code",
   "execution_count": 24,
   "metadata": {},
   "outputs": [
    {
     "data": {
      "text/plain": [
       "18.0"
      ]
     },
     "execution_count": 24,
     "metadata": {},
     "output_type": "execute_result"
    }
   ],
   "source": [
    "np.average(random_sample.column('Midterm'))"
   ]
  },
  {
   "cell_type": "code",
   "execution_count": 25,
   "metadata": {},
   "outputs": [],
   "source": [
    "# Simulate one value of the test statistic \n",
    "# under the hypothesis that the section is like a random sample from the class\n",
    "def random_sample_midterm_avg():\n",
    "    random_sample = scores.sample(27, with_replacement = False)\n",
    "    return np.average(random_sample.column('Midterm'))"
   ]
  },
  {
   "cell_type": "code",
   "execution_count": 26,
   "metadata": {},
   "outputs": [],
   "source": [
    "# Simulate 50,000 copies of the test statistic\n",
    "\n",
    "sample_averages = make_array()\n",
    "\n",
    "for i in np.arange(50000):\n",
    "    sample_averages = np.append(sample_averages, random_sample_midterm_avg())    "
   ]
  },
  {
   "cell_type": "markdown",
   "metadata": {},
   "source": [
    "## Our Decision"
   ]
  },
  {
   "cell_type": "code",
   "execution_count": 27,
   "metadata": {
    "scrolled": true
   },
   "outputs": [
    {
     "data": {
      "image/png": "[encoded data removed]",
      "text/plain": [
       "<Figure size 600x400 with 1 Axes>"
      ]
     },
     "metadata": {},
     "output_type": "display_data"
    }
   ],
   "source": [
    "# Compare the simulated distribution of the statistic\n",
    "# and the actual observed statistic\n",
    "averages_tbl = Table().with_column('Random Sample Average', sample_averages)\n",
    "averages_tbl.hist(bins = 20)\n",
    "plots.scatter(observed_average, -0.01, color='red', s=120);"
   ]
  },
  {
   "cell_type": "markdown",
   "metadata": {},
   "source": [
    "### Approach 1"
   ]
  },
  {
   "cell_type": "code",
   "execution_count": null,
   "metadata": {},
   "outputs": [],
   "source": [
    "# (1) Calculate the p-value: simulation area beyond observed value\n",
    "np.count_nonzero(sample_averages <= observed_average) / 50000\n",
    "# (2) See if this is less than 5%"
   ]
  },
  {
   "cell_type": "markdown",
   "metadata": {},
   "source": [
    "### Approach 2"
   ]
  },
  {
   "cell_type": "code",
   "execution_count": null,
   "metadata": {},
   "outputs": [],
   "source": [
    "# (1) Find simulated value corresponding to 5% of 50,000 = 2500\n",
    "five_percent_point = averages_tbl.sort(0).column(0).item(2500)\n",
    "five_percent_point"
   ]
  },
  {
   "cell_type": "code",
   "execution_count": null,
   "metadata": {},
   "outputs": [],
   "source": [
    "# (2) See if this value is greater than observed value\n",
    "observed_average"
   ]
  },
  {
   "cell_type": "markdown",
   "metadata": {},
   "source": [
    "### Visual Representation"
   ]
  },
  {
   "cell_type": "code",
   "execution_count": null,
   "metadata": {},
   "outputs": [],
   "source": [
    "averages_tbl.hist(bins = 20)\n",
    "plots.plot([five_percent_point, five_percent_point], [0, 0.35], color='gold', lw=2)\n",
    "plots.title('Area to the left of the gold line: 5%');\n",
    "plots.scatter(observed_average, -0.01, color='red', s=120);"
   ]
  },
  {
   "cell_type": "code",
   "execution_count": null,
   "metadata": {},
   "outputs": [],
   "source": []
  }
 ],
 "metadata": {
  "anaconda-cloud": {},
  "kernelspec": {
   "display_name": "Python 3 (ipykernel)",
   "language": "python",
   "name": "python3"
  },
  "language_info": {
   "codemirror_mode": {
    "name": "ipython",
    "version": 3
   },
   "file_extension": ".py",
   "mimetype": "text/x-python",
   "name": "python",
   "nbconvert_exporter": "python",
   "pygments_lexer": "ipython3",
   "version": "3.11.4"
  }
 },
 "nbformat": 4,
 "nbformat_minor": 4
}
