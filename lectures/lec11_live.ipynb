{
 "cells": [
  {
   "cell_type": "code",
   "execution_count": 1,
   "metadata": {},
   "outputs": [],
   "source": [
    "from datascience import *\n",
    "import numpy as np\n",
    "\n",
    "%matplotlib inline\n",
    "import matplotlib.pyplot as plots\n",
    "plots.style.use('fivethirtyeight')\n",
    "import warnings\n",
    "warnings.simplefilter(action='ignore',category=np.VisibleDeprecationWarning)"
   ]
  },
  {
   "cell_type": "markdown",
   "metadata": {},
   "source": [
    "# Lecture 11 #"
   ]
  },
  {
   "cell_type": "markdown",
   "metadata": {},
   "source": [
    "### Rows from lists"
   ]
  },
  {
   "cell_type": "code",
   "execution_count": 2,
   "metadata": {
    "tags": []
   },
   "outputs": [
    {
     "data": {
      "text/html": [
       "<table border=\"1\" class=\"dataframe\">\n",
       "    <thead>\n",
       "        <tr>\n",
       "            <th>Numbers</th>\n",
       "        </tr>\n",
       "    </thead>\n",
       "    <tbody>\n",
       "        <tr>\n",
       "            <td>1      </td>\n",
       "        </tr>\n",
       "        <tr>\n",
       "            <td>2      </td>\n",
       "        </tr>\n",
       "        <tr>\n",
       "            <td>3      </td>\n",
       "        </tr>\n",
       "    </tbody>\n",
       "</table>"
      ],
      "text/plain": [
       "Numbers\n",
       "1\n",
       "2\n",
       "3"
      ]
     },
     "execution_count": 2,
     "metadata": {},
     "output_type": "execute_result"
    }
   ],
   "source": [
    "Table().with_columns('Numbers', np.arange(1, 4))"
   ]
  },
  {
   "cell_type": "code",
   "execution_count": 3,
   "metadata": {},
   "outputs": [
    {
     "data": {
      "text/html": [
       "<table border=\"1\" class=\"dataframe\">\n",
       "    <thead>\n",
       "        <tr>\n",
       "            <th>Drink</th> <th>Cafe</th> <th>Price</th>\n",
       "        </tr>\n",
       "    </thead>\n",
       "    <tbody>\n",
       "    </tbody>\n",
       "</table>"
      ],
      "text/plain": [
       "Drink | Cafe | Price"
      ]
     },
     "execution_count": 3,
     "metadata": {},
     "output_type": "execute_result"
    }
   ],
   "source": [
    "drinks = Table(['Drink', 'Cafe', 'Price'])\n",
    "drinks"
   ]
  },
  {
   "cell_type": "code",
   "execution_count": 4,
   "metadata": {
    "tags": []
   },
   "outputs": [
    {
     "data": {
      "text/html": [
       "<table border=\"1\" class=\"dataframe\">\n",
       "    <thead>\n",
       "        <tr>\n",
       "            <th>Drink</th> <th>Cafe</th> <th>Price</th>\n",
       "        </tr>\n",
       "    </thead>\n",
       "    <tbody>\n",
       "        <tr>\n",
       "            <td>Matcha Latte</td> <td>Northtown  </td> <td>5.5  </td>\n",
       "        </tr>\n",
       "        <tr>\n",
       "            <td>Espresso    </td> <td>Cafe Mokka </td> <td>2.75 </td>\n",
       "        </tr>\n",
       "        <tr>\n",
       "            <td>Latte       </td> <td>Cafe Mokka </td> <td>5.25 </td>\n",
       "        </tr>\n",
       "        <tr>\n",
       "            <td>Espresso    </td> <td>Jitter Bean</td> <td>2    </td>\n",
       "        </tr>\n",
       "    </tbody>\n",
       "</table>"
      ],
      "text/plain": [
       "Drink        | Cafe        | Price\n",
       "Matcha Latte | Northtown   | 5.5\n",
       "Espresso     | Cafe Mokka  | 2.75\n",
       "Latte        | Cafe Mokka  | 5.25\n",
       "Espresso     | Jitter Bean | 2"
      ]
     },
     "execution_count": 4,
     "metadata": {},
     "output_type": "execute_result"
    }
   ],
   "source": [
    "drinks = drinks.with_rows([\n",
    "    ['Matcha Latte', 'Northtown', 5.5],\n",
    "    ['Espresso', 'Cafe Mokka',  2.75],\n",
    "    ['Latte',    'Cafe Mokka',  5.25],\n",
    "    ['Espresso', \"Jitter Bean\",   2]\n",
    "])\n",
    "drinks"
   ]
  },
  {
   "cell_type": "markdown",
   "metadata": {
    "tags": []
   },
   "source": [
    "## Review: Group by one column"
   ]
  },
  {
   "cell_type": "code",
   "execution_count": 5,
   "metadata": {
    "tags": []
   },
   "outputs": [
    {
     "data": {
      "text/html": [
       "<table border=\"1\" class=\"dataframe\">\n",
       "    <thead>\n",
       "        <tr>\n",
       "            <th>Timestamp</th> <th>Pets</th> <th>Handedness</th> <th>Extroversion</th> <th>Texts</th> <th>Hours of Sleep</th> <th>Sleep Position</th> <th>Pant Leg</th> <th>Piercings</th> <th>Food Preference</th>\n",
       "        </tr>\n",
       "    </thead>\n",
       "    <tbody>\n",
       "        <tr>\n",
       "            <td>2024/08/26 10:11:55 AM MDT</td> <td>Dog;Cat;Bunny;Bearded Dragon</td> <td>Right     </td> <td>4           </td> <td>3    </td> <td>9             </td> <td>On your right side</td> <td>Right   </td> <td>0        </td> <td>Savory         </td>\n",
       "        </tr>\n",
       "        <tr>\n",
       "            <td>2024/08/26 10:18:32 AM MDT</td> <td>Dog                         </td> <td>Right     </td> <td>4           </td> <td>8    </td> <td>8             </td> <td>On your left side </td> <td>Right   </td> <td>2        </td> <td>Sweet          </td>\n",
       "        </tr>\n",
       "        <tr>\n",
       "            <td>2024/08/26 10:52:17 AM MDT</td> <td>Cat                         </td> <td>Right     </td> <td>4           </td> <td>7    </td> <td>7             </td> <td>On your right side</td> <td>Right   </td> <td>2        </td> <td>Savory         </td>\n",
       "        </tr>\n",
       "    </tbody>\n",
       "</table>\n",
       "<p>... (71 rows omitted)</p>"
      ],
      "text/plain": [
       "<IPython.core.display.HTML object>"
      ]
     },
     "metadata": {},
     "output_type": "display_data"
    }
   ],
   "source": [
    "survey = Table.read_table('data111_survey_fa24.csv')\n",
    "survey.show(3)"
   ]
  },
  {
   "cell_type": "code",
   "execution_count": 6,
   "metadata": {
    "tags": []
   },
   "outputs": [
    {
     "data": {
      "text/html": [
       "<table border=\"1\" class=\"dataframe\">\n",
       "    <thead>\n",
       "        <tr>\n",
       "            <th>Handedness</th> <th>count</th>\n",
       "        </tr>\n",
       "    </thead>\n",
       "    <tbody>\n",
       "        <tr>\n",
       "            <td>Left      </td> <td>9    </td>\n",
       "        </tr>\n",
       "        <tr>\n",
       "            <td>Right     </td> <td>65   </td>\n",
       "        </tr>\n",
       "    </tbody>\n",
       "</table>"
      ],
      "text/plain": [
       "Handedness | count\n",
       "Left       | 9\n",
       "Right      | 65"
      ]
     },
     "execution_count": 6,
     "metadata": {},
     "output_type": "execute_result"
    }
   ],
   "source": [
    "survey.group(\"Handedness\")"
   ]
  },
  {
   "cell_type": "code",
   "execution_count": 7,
   "metadata": {
    "tags": []
   },
   "outputs": [
    {
     "data": {
      "text/html": [
       "<table border=\"1\" class=\"dataframe\">\n",
       "    <thead>\n",
       "        <tr>\n",
       "            <th>Handedness</th> <th>Hours of Sleep average</th>\n",
       "        </tr>\n",
       "    </thead>\n",
       "    <tbody>\n",
       "        <tr>\n",
       "            <td>Left      </td> <td>7.16667               </td>\n",
       "        </tr>\n",
       "        <tr>\n",
       "            <td>Right     </td> <td>7.12615               </td>\n",
       "        </tr>\n",
       "    </tbody>\n",
       "</table>"
      ],
      "text/plain": [
       "Handedness | Hours of Sleep average\n",
       "Left       | 7.16667\n",
       "Right      | 7.12615"
      ]
     },
     "execution_count": 7,
     "metadata": {},
     "output_type": "execute_result"
    }
   ],
   "source": [
    "(survey\n",
    " .select('Handedness', 'Hours of Sleep')\n",
    " .group(\"Handedness\", np.average))"
   ]
  },
  {
   "cell_type": "code",
   "execution_count": 8,
   "metadata": {},
   "outputs": [
    {
     "data": {
      "text/html": [
       "<table border=\"1\" class=\"dataframe\">\n",
       "    <thead>\n",
       "        <tr>\n",
       "            <th>Handedness</th> <th>Timestamp average</th> <th>Pets average</th> <th>Extroversion average</th> <th>Texts average</th> <th>Hours of Sleep average</th> <th>Sleep Position average</th> <th>Pant Leg average</th> <th>Piercings average</th> <th>Food Preference average</th>\n",
       "        </tr>\n",
       "    </thead>\n",
       "    <tbody>\n",
       "        <tr>\n",
       "            <td>Left      </td> <td>                 </td> <td>            </td> <td>4.66667             </td> <td>4.66667      </td> <td>7.16667               </td> <td>                      </td> <td>                </td> <td>1.77778          </td> <td>                       </td>\n",
       "        </tr>\n",
       "        <tr>\n",
       "            <td>Right     </td> <td>                 </td> <td>            </td> <td>5.32308             </td> <td>4.33846      </td> <td>7.12615               </td> <td>                      </td> <td>                </td> <td>2.04615          </td> <td>                       </td>\n",
       "        </tr>\n",
       "    </tbody>\n",
       "</table>"
      ],
      "text/plain": [
       "Handedness | Timestamp average | Pets average | Extroversion average | Texts average | Hours of Sleep average | Sleep Position average | Pant Leg average | Piercings average | Food Preference average\n",
       "Left       |                   |              | 4.66667              | 4.66667       | 7.16667                |                        |                  | 1.77778           |\n",
       "Right      |                   |              | 5.32308              | 4.33846       | 7.12615                |                        |                  | 2.04615           |"
      ]
     },
     "execution_count": 8,
     "metadata": {},
     "output_type": "execute_result"
    }
   ],
   "source": [
    "survey.group(\"Handedness\", np.average)"
   ]
  },
  {
   "cell_type": "markdown",
   "metadata": {},
   "source": [
    "## Cross-classification: grouping by two columns"
   ]
  },
  {
   "cell_type": "code",
   "execution_count": 9,
   "metadata": {
    "tags": []
   },
   "outputs": [
    {
     "data": {
      "text/html": [
       "<table border=\"1\" class=\"dataframe\">\n",
       "    <thead>\n",
       "        <tr>\n",
       "            <th>Handedness</th> <th>Sleep Position</th> <th>count</th>\n",
       "        </tr>\n",
       "    </thead>\n",
       "    <tbody>\n",
       "        <tr>\n",
       "            <td>Left      </td> <td>On your back      </td> <td>2    </td>\n",
       "        </tr>\n",
       "        <tr>\n",
       "            <td>Left      </td> <td>On your left side </td> <td>4    </td>\n",
       "        </tr>\n",
       "        <tr>\n",
       "            <td>Left      </td> <td>On your right side</td> <td>2    </td>\n",
       "        </tr>\n",
       "        <tr>\n",
       "            <td>Left      </td> <td>On your stomach   </td> <td>1    </td>\n",
       "        </tr>\n",
       "        <tr>\n",
       "            <td>Right     </td> <td>On your back      </td> <td>9    </td>\n",
       "        </tr>\n",
       "        <tr>\n",
       "            <td>Right     </td> <td>On your left side </td> <td>25   </td>\n",
       "        </tr>\n",
       "        <tr>\n",
       "            <td>Right     </td> <td>On your right side</td> <td>22   </td>\n",
       "        </tr>\n",
       "        <tr>\n",
       "            <td>Right     </td> <td>On your stomach   </td> <td>9    </td>\n",
       "        </tr>\n",
       "    </tbody>\n",
       "</table>"
      ],
      "text/plain": [
       "Handedness | Sleep Position     | count\n",
       "Left       | On your back       | 2\n",
       "Left       | On your left side  | 4\n",
       "Left       | On your right side | 2\n",
       "Left       | On your stomach    | 1\n",
       "Right      | On your back       | 9\n",
       "Right      | On your left side  | 25\n",
       "Right      | On your right side | 22\n",
       "Right      | On your stomach    | 9"
      ]
     },
     "execution_count": 9,
     "metadata": {},
     "output_type": "execute_result"
    }
   ],
   "source": [
    "survey.group([\"Handedness\", 'Sleep Position'])"
   ]
  },
  {
   "cell_type": "code",
   "execution_count": 10,
   "metadata": {
    "tags": []
   },
   "outputs": [
    {
     "data": {
      "text/html": [
       "<table border=\"1\" class=\"dataframe\">\n",
       "    <thead>\n",
       "        <tr>\n",
       "            <th>Handedness</th> <th>Sleep Position</th> <th>Hours of Sleep average</th>\n",
       "        </tr>\n",
       "    </thead>\n",
       "    <tbody>\n",
       "        <tr>\n",
       "            <td>Left      </td> <td>On your back      </td> <td>7                     </td>\n",
       "        </tr>\n",
       "        <tr>\n",
       "            <td>Left      </td> <td>On your left side </td> <td>7.375                 </td>\n",
       "        </tr>\n",
       "        <tr>\n",
       "            <td>Left      </td> <td>On your right side</td> <td>6.5                   </td>\n",
       "        </tr>\n",
       "        <tr>\n",
       "            <td>Left      </td> <td>On your stomach   </td> <td>8                     </td>\n",
       "        </tr>\n",
       "        <tr>\n",
       "            <td>Right     </td> <td>On your back      </td> <td>7.05556               </td>\n",
       "        </tr>\n",
       "        <tr>\n",
       "            <td>Right     </td> <td>On your left side </td> <td>7.148                 </td>\n",
       "        </tr>\n",
       "        <tr>\n",
       "            <td>Right     </td> <td>On your right side</td> <td>7.29545               </td>\n",
       "        </tr>\n",
       "        <tr>\n",
       "            <td>Right     </td> <td>On your stomach   </td> <td>6.72222               </td>\n",
       "        </tr>\n",
       "    </tbody>\n",
       "</table>"
      ],
      "text/plain": [
       "Handedness | Sleep Position     | Hours of Sleep average\n",
       "Left       | On your back       | 7\n",
       "Left       | On your left side  | 7.375\n",
       "Left       | On your right side | 6.5\n",
       "Left       | On your stomach    | 8\n",
       "Right      | On your back       | 7.05556\n",
       "Right      | On your left side  | 7.148\n",
       "Right      | On your right side | 7.29545\n",
       "Right      | On your stomach    | 6.72222"
      ]
     },
     "execution_count": 10,
     "metadata": {},
     "output_type": "execute_result"
    }
   ],
   "source": [
    "(survey\n",
    " .select(\"Handedness\", 'Sleep Position', \"Hours of Sleep\")\n",
    " .group([\"Handedness\", 'Sleep Position'], collect=np.average))"
   ]
  },
  {
   "cell_type": "markdown",
   "metadata": {},
   "source": [
    "## Pivot Tables"
   ]
  },
  {
   "cell_type": "code",
   "execution_count": 12,
   "metadata": {},
   "outputs": [
    {
     "data": {
      "text/html": [
       "<table border=\"1\" class=\"dataframe\">\n",
       "    <thead>\n",
       "        <tr>\n",
       "            <th>Handedness</th> <th>On your back</th> <th>On your left side</th> <th>On your right side</th> <th>On your stomach</th>\n",
       "        </tr>\n",
       "    </thead>\n",
       "    <tbody>\n",
       "        <tr>\n",
       "            <td>Left      </td> <td>2           </td> <td>4                </td> <td>2                 </td> <td>1              </td>\n",
       "        </tr>\n",
       "        <tr>\n",
       "            <td>Right     </td> <td>9           </td> <td>25               </td> <td>22                </td> <td>9              </td>\n",
       "        </tr>\n",
       "    </tbody>\n",
       "</table>"
      ],
      "text/plain": [
       "Handedness | On your back | On your left side | On your right side | On your stomach\n",
       "Left       | 2            | 4                 | 2                  | 1\n",
       "Right      | 9            | 25                | 22                 | 9"
      ]
     },
     "execution_count": 12,
     "metadata": {},
     "output_type": "execute_result"
    }
   ],
   "source": [
    "survey.pivot('Sleep Position','Handedness')"
   ]
  },
  {
   "cell_type": "code",
   "execution_count": 13,
   "metadata": {},
   "outputs": [
    {
     "data": {
      "text/html": [
       "<table border=\"1\" class=\"dataframe\">\n",
       "    <thead>\n",
       "        <tr>\n",
       "            <th>Handedness</th> <th>On your back</th> <th>On your left side</th> <th>On your right side</th> <th>On your stomach</th>\n",
       "        </tr>\n",
       "    </thead>\n",
       "    <tbody>\n",
       "        <tr>\n",
       "            <td>Left      </td> <td>7           </td> <td>7.375            </td> <td>6.5               </td> <td>8              </td>\n",
       "        </tr>\n",
       "        <tr>\n",
       "            <td>Right     </td> <td>7.05556     </td> <td>7.148            </td> <td>7.29545           </td> <td>6.72222        </td>\n",
       "        </tr>\n",
       "    </tbody>\n",
       "</table>"
      ],
      "text/plain": [
       "Handedness | On your back | On your left side | On your right side | On your stomach\n",
       "Left       | 7            | 7.375             | 6.5                | 8\n",
       "Right      | 7.05556      | 7.148             | 7.29545            | 6.72222"
      ]
     },
     "execution_count": 13,
     "metadata": {},
     "output_type": "execute_result"
    }
   ],
   "source": [
    "survey.pivot('Sleep Position','Handedness', values = 'Hours of Sleep', collect = np.average)"
   ]
  },
  {
   "cell_type": "code",
   "execution_count": 14,
   "metadata": {},
   "outputs": [
    {
     "ename": "TypeError",
     "evalue": "collect requires values to be specified",
     "output_type": "error",
     "traceback": [
      "\u001b[0;31m---------------------------------------------------------------------------\u001b[0m",
      "\u001b[0;31mTypeError\u001b[0m                                 Traceback (most recent call last)",
      "Cell \u001b[0;32mIn[14], line 3\u001b[0m\n\u001b[1;32m      1\u001b[0m \u001b[38;5;66;03m# This cell will throw an error\u001b[39;00m\n\u001b[1;32m      2\u001b[0m \u001b[38;5;66;03m# You cannot include just 1 of the optional arguments\u001b[39;00m\n\u001b[0;32m----> 3\u001b[0m survey\u001b[38;5;241m.\u001b[39mpivot(\u001b[38;5;124m'\u001b[39m\u001b[38;5;124mSleep Position\u001b[39m\u001b[38;5;124m'\u001b[39m, \n\u001b[1;32m      4\u001b[0m              \u001b[38;5;124m'\u001b[39m\u001b[38;5;124mHandedness\u001b[39m\u001b[38;5;124m'\u001b[39m, \n\u001b[1;32m      5\u001b[0m              collect\u001b[38;5;241m=\u001b[39mnp\u001b[38;5;241m.\u001b[39maverage)\n",
      "File \u001b[0;32m~/anaconda3/lib/python3.11/site-packages/datascience/tables.py:1756\u001b[0m, in \u001b[0;36mTable.pivot\u001b[0;34m(self, columns, rows, values, collect, zero)\u001b[0m\n\u001b[1;32m   1688\u001b[0m \u001b[38;5;250m\u001b[39m\u001b[38;5;124;03m\"\"\"Generate a table with a column for each unique value in ``columns``,\u001b[39;00m\n\u001b[1;32m   1689\u001b[0m \u001b[38;5;124;03mwith rows for each unique value in ``rows``. Each row counts/aggregates\u001b[39;00m\n\u001b[1;32m   1690\u001b[0m \u001b[38;5;124;03mthe values that match both row and column based on ``collect``.\u001b[39;00m\n\u001b[0;32m   (...)\u001b[0m\n\u001b[1;32m   1753\u001b[0m \u001b[38;5;124;03mTypeError: collect requires values to be specified\u001b[39;00m\n\u001b[1;32m   1754\u001b[0m \u001b[38;5;124;03m\"\"\"\u001b[39;00m\n\u001b[1;32m   1755\u001b[0m \u001b[38;5;28;01mif\u001b[39;00m collect \u001b[38;5;129;01mis\u001b[39;00m \u001b[38;5;129;01mnot\u001b[39;00m \u001b[38;5;28;01mNone\u001b[39;00m \u001b[38;5;129;01mand\u001b[39;00m values \u001b[38;5;129;01mis\u001b[39;00m \u001b[38;5;28;01mNone\u001b[39;00m:\n\u001b[0;32m-> 1756\u001b[0m     \u001b[38;5;28;01mraise\u001b[39;00m \u001b[38;5;167;01mTypeError\u001b[39;00m(\u001b[38;5;124m'\u001b[39m\u001b[38;5;124mcollect requires values to be specified\u001b[39m\u001b[38;5;124m'\u001b[39m)\n\u001b[1;32m   1757\u001b[0m \u001b[38;5;28;01mif\u001b[39;00m values \u001b[38;5;129;01mis\u001b[39;00m \u001b[38;5;129;01mnot\u001b[39;00m \u001b[38;5;28;01mNone\u001b[39;00m \u001b[38;5;129;01mand\u001b[39;00m collect \u001b[38;5;129;01mis\u001b[39;00m \u001b[38;5;28;01mNone\u001b[39;00m:\n\u001b[1;32m   1758\u001b[0m     \u001b[38;5;28;01mraise\u001b[39;00m \u001b[38;5;167;01mTypeError\u001b[39;00m(\u001b[38;5;124m'\u001b[39m\u001b[38;5;124mvalues requires collect to be specified\u001b[39m\u001b[38;5;124m'\u001b[39m)\n",
      "\u001b[0;31mTypeError\u001b[0m: collect requires values to be specified"
     ]
    }
   ],
   "source": [
    "# This cell will throw an error\n",
    "# You cannot include just 1 of the optional arguments\n",
    "survey.pivot('Sleep Position', \n",
    "             'Handedness', \n",
    "             collect=np.average)"
   ]
  },
  {
   "cell_type": "markdown",
   "metadata": {},
   "source": [
    "## Joins ##"
   ]
  },
  {
   "cell_type": "code",
   "execution_count": 15,
   "metadata": {},
   "outputs": [
    {
     "data": {
      "text/html": [
       "<table border=\"1\" class=\"dataframe\">\n",
       "    <thead>\n",
       "        <tr>\n",
       "            <th>Drink</th> <th>Cafe</th> <th>Price</th>\n",
       "        </tr>\n",
       "    </thead>\n",
       "    <tbody>\n",
       "        <tr>\n",
       "            <td>Matcha Latte</td> <td>Northtown  </td> <td>5.5  </td>\n",
       "        </tr>\n",
       "        <tr>\n",
       "            <td>Espresso    </td> <td>Cafe Mokka </td> <td>2.75 </td>\n",
       "        </tr>\n",
       "        <tr>\n",
       "            <td>Latte       </td> <td>Cafe Mokka </td> <td>5.25 </td>\n",
       "        </tr>\n",
       "        <tr>\n",
       "            <td>Espresso    </td> <td>Jitter Bean</td> <td>2    </td>\n",
       "        </tr>\n",
       "    </tbody>\n",
       "</table>"
      ],
      "text/plain": [
       "Drink        | Cafe        | Price\n",
       "Matcha Latte | Northtown   | 5.5\n",
       "Espresso     | Cafe Mokka  | 2.75\n",
       "Latte        | Cafe Mokka  | 5.25\n",
       "Espresso     | Jitter Bean | 2"
      ]
     },
     "execution_count": 15,
     "metadata": {},
     "output_type": "execute_result"
    }
   ],
   "source": [
    "drinks"
   ]
  },
  {
   "cell_type": "code",
   "execution_count": 16,
   "metadata": {},
   "outputs": [
    {
     "data": {
      "text/html": [
       "<table border=\"1\" class=\"dataframe\">\n",
       "    <thead>\n",
       "        <tr>\n",
       "            <th>Coupon % off</th> <th>Location</th>\n",
       "        </tr>\n",
       "    </thead>\n",
       "    <tbody>\n",
       "        <tr>\n",
       "            <td>10          </td> <td>Northtown </td>\n",
       "        </tr>\n",
       "        <tr>\n",
       "            <td>25          </td> <td>Cafe Mokka</td>\n",
       "        </tr>\n",
       "        <tr>\n",
       "            <td>5           </td> <td>Northtown </td>\n",
       "        </tr>\n",
       "    </tbody>\n",
       "</table>"
      ],
      "text/plain": [
       "Coupon % off | Location\n",
       "10           | Northtown\n",
       "25           | Cafe Mokka\n",
       "5            | Northtown"
      ]
     },
     "execution_count": 16,
     "metadata": {},
     "output_type": "execute_result"
    }
   ],
   "source": [
    "discounts = Table().with_columns(\n",
    "    'Coupon % off', make_array(10, 25, 5),\n",
    "    'Location', make_array('Northtown', 'Cafe Mokka', 'Northtown')\n",
    ")\n",
    "discounts"
   ]
  },
  {
   "cell_type": "code",
   "execution_count": 17,
   "metadata": {
    "scrolled": true
   },
   "outputs": [
    {
     "data": {
      "text/html": [
       "<table border=\"1\" class=\"dataframe\">\n",
       "    <thead>\n",
       "        <tr>\n",
       "            <th>Cafe</th> <th>Drink</th> <th>Price</th> <th>Coupon % off</th>\n",
       "        </tr>\n",
       "    </thead>\n",
       "    <tbody>\n",
       "        <tr>\n",
       "            <td>Cafe Mokka</td> <td>Espresso    </td> <td>2.75 </td> <td>25          </td>\n",
       "        </tr>\n",
       "        <tr>\n",
       "            <td>Cafe Mokka</td> <td>Latte       </td> <td>5.25 </td> <td>25          </td>\n",
       "        </tr>\n",
       "        <tr>\n",
       "            <td>Northtown </td> <td>Matcha Latte</td> <td>5.5  </td> <td>10          </td>\n",
       "        </tr>\n",
       "        <tr>\n",
       "            <td>Northtown </td> <td>Matcha Latte</td> <td>5.5  </td> <td>5           </td>\n",
       "        </tr>\n",
       "    </tbody>\n",
       "</table>"
      ],
      "text/plain": [
       "Cafe       | Drink        | Price | Coupon % off\n",
       "Cafe Mokka | Espresso     | 2.75  | 25\n",
       "Cafe Mokka | Latte        | 5.25  | 25\n",
       "Northtown  | Matcha Latte | 5.5   | 10\n",
       "Northtown  | Matcha Latte | 5.5   | 5"
      ]
     },
     "execution_count": 17,
     "metadata": {},
     "output_type": "execute_result"
    }
   ],
   "source": [
    "combined = drinks.join('Cafe',discounts,'Location')\n",
    "combined"
   ]
  },
  {
   "cell_type": "code",
   "execution_count": 18,
   "metadata": {},
   "outputs": [
    {
     "data": {
      "text/html": [
       "<table border=\"1\" class=\"dataframe\">\n",
       "    <thead>\n",
       "        <tr>\n",
       "            <th>Cafe</th> <th>Drink</th> <th>Price</th> <th>Coupon % off</th> <th>Discounted Price</th>\n",
       "        </tr>\n",
       "    </thead>\n",
       "    <tbody>\n",
       "        <tr>\n",
       "            <td>Cafe Mokka</td> <td>Espresso    </td> <td>2.75 </td> <td>25          </td> <td>2.0625          </td>\n",
       "        </tr>\n",
       "        <tr>\n",
       "            <td>Cafe Mokka</td> <td>Latte       </td> <td>5.25 </td> <td>25          </td> <td>3.9375          </td>\n",
       "        </tr>\n",
       "        <tr>\n",
       "            <td>Northtown </td> <td>Matcha Latte</td> <td>5.5  </td> <td>10          </td> <td>4.95            </td>\n",
       "        </tr>\n",
       "        <tr>\n",
       "            <td>Northtown </td> <td>Matcha Latte</td> <td>5.5  </td> <td>5           </td> <td>5.225           </td>\n",
       "        </tr>\n",
       "    </tbody>\n",
       "</table>"
      ],
      "text/plain": [
       "Cafe       | Drink        | Price | Coupon % off | Discounted Price\n",
       "Cafe Mokka | Espresso     | 2.75  | 25           | 2.0625\n",
       "Cafe Mokka | Latte        | 5.25  | 25           | 3.9375\n",
       "Northtown  | Matcha Latte | 5.5   | 10           | 4.95\n",
       "Northtown  | Matcha Latte | 5.5   | 5            | 5.225"
      ]
     },
     "execution_count": 18,
     "metadata": {},
     "output_type": "execute_result"
    }
   ],
   "source": [
    "discounted_frac = 1 - combined.column('Coupon % off') / 100\n",
    "combined.with_column(\n",
    "    'Discounted Price', \n",
    "    combined.column('Price') * discounted_frac\n",
    ")"
   ]
  },
  {
   "cell_type": "code",
   "execution_count": 19,
   "metadata": {},
   "outputs": [
    {
     "data": {
      "text/html": [
       "<table border=\"1\" class=\"dataframe\">\n",
       "    <thead>\n",
       "        <tr>\n",
       "            <th>Cafe</th> <th>Drink</th> <th>Price</th> <th>Drink_2</th> <th>Price_2</th>\n",
       "        </tr>\n",
       "    </thead>\n",
       "    <tbody>\n",
       "        <tr>\n",
       "            <td>Cafe Mokka </td> <td>Espresso    </td> <td>2.75 </td> <td>Espresso    </td> <td>2.75   </td>\n",
       "        </tr>\n",
       "        <tr>\n",
       "            <td>Cafe Mokka </td> <td>Espresso    </td> <td>2.75 </td> <td>Latte       </td> <td>5.25   </td>\n",
       "        </tr>\n",
       "        <tr>\n",
       "            <td>Cafe Mokka </td> <td>Latte       </td> <td>5.25 </td> <td>Espresso    </td> <td>2.75   </td>\n",
       "        </tr>\n",
       "        <tr>\n",
       "            <td>Cafe Mokka </td> <td>Latte       </td> <td>5.25 </td> <td>Latte       </td> <td>5.25   </td>\n",
       "        </tr>\n",
       "        <tr>\n",
       "            <td>Jitter Bean</td> <td>Espresso    </td> <td>2    </td> <td>Espresso    </td> <td>2      </td>\n",
       "        </tr>\n",
       "        <tr>\n",
       "            <td>Northtown  </td> <td>Matcha Latte</td> <td>5.5  </td> <td>Matcha Latte</td> <td>5.5    </td>\n",
       "        </tr>\n",
       "    </tbody>\n",
       "</table>"
      ],
      "text/plain": [
       "Cafe        | Drink        | Price | Drink_2      | Price_2\n",
       "Cafe Mokka  | Espresso     | 2.75  | Espresso     | 2.75\n",
       "Cafe Mokka  | Espresso     | 2.75  | Latte        | 5.25\n",
       "Cafe Mokka  | Latte        | 5.25  | Espresso     | 2.75\n",
       "Cafe Mokka  | Latte        | 5.25  | Latte        | 5.25\n",
       "Jitter Bean | Espresso     | 2     | Espresso     | 2\n",
       "Northtown   | Matcha Latte | 5.5   | Matcha Latte | 5.5"
      ]
     },
     "execution_count": 19,
     "metadata": {},
     "output_type": "execute_result"
    }
   ],
   "source": [
    "drinks.join('Cafe',drinks,'Cafe')"
   ]
  },
  {
   "cell_type": "markdown",
   "metadata": {},
   "source": [
    "## Activity ##"
   ]
  },
  {
   "cell_type": "code",
   "execution_count": 20,
   "metadata": {},
   "outputs": [
    {
     "data": {
      "text/html": [
       "<table border=\"1\" class=\"dataframe\">\n",
       "    <thead>\n",
       "        <tr>\n",
       "            <th>name</th> <th>material</th> <th>city</th> <th>height</th> <th>age</th>\n",
       "        </tr>\n",
       "    </thead>\n",
       "    <tbody>\n",
       "        <tr>\n",
       "            <td>One World Trade Center</td> <td>mixed/composite</td> <td>New York City</td> <td>541.3 </td> <td>10  </td>\n",
       "        </tr>\n",
       "        <tr>\n",
       "            <td>Willis Tower          </td> <td>steel          </td> <td>Chicago      </td> <td>442.14</td> <td>50  </td>\n",
       "        </tr>\n",
       "        <tr>\n",
       "            <td>432 Park Avenue       </td> <td>concrete       </td> <td>New York City</td> <td>425.5 </td> <td>9   </td>\n",
       "        </tr>\n",
       "    </tbody>\n",
       "</table>\n",
       "<p>... (1778 rows omitted)</p>"
      ],
      "text/plain": [
       "<IPython.core.display.HTML object>"
      ]
     },
     "metadata": {},
     "output_type": "display_data"
    }
   ],
   "source": [
    "# From the CORGIS Dataset Project\n",
    "# By Austin Cory Bart acbart@vt.edu\n",
    "# Version 2.0.0, created 3/22/2016\n",
    "# https://corgis-edu.github.io/corgis/csv/skyscrapers/\n",
    "\n",
    "sky = Table.read_table('skyscrapers.csv')\n",
    "sky = (sky.with_column('age', 2024 - sky.column('completed'))\n",
    "          .drop('completed'))\n",
    "sky.show(3)"
   ]
  },
  {
   "cell_type": "markdown",
   "metadata": {},
   "source": [
    "1. For each city, how tall is the tallest building for each material?"
   ]
  },
  {
   "cell_type": "code",
   "execution_count": 23,
   "metadata": {},
   "outputs": [
    {
     "data": {
      "text/html": [
       "<table border=\"1\" class=\"dataframe\">\n",
       "    <thead>\n",
       "        <tr>\n",
       "            <th>city</th> <th>concrete</th> <th>mixed/composite</th> <th>steel</th>\n",
       "        </tr>\n",
       "    </thead>\n",
       "    <tbody>\n",
       "        <tr>\n",
       "            <td>Atlanta   </td> <td>264.25  </td> <td>311.8          </td> <td>169.47</td>\n",
       "        </tr>\n",
       "        <tr>\n",
       "            <td>Austin    </td> <td>208.15  </td> <td>0              </td> <td>93.6  </td>\n",
       "        </tr>\n",
       "        <tr>\n",
       "            <td>Baltimore </td> <td>161.24  </td> <td>0              </td> <td>155.15</td>\n",
       "        </tr>\n",
       "        <tr>\n",
       "            <td>Boston    </td> <td>121.92  </td> <td>139            </td> <td>240.79</td>\n",
       "        </tr>\n",
       "        <tr>\n",
       "            <td>Charlotte </td> <td>265.48  </td> <td>239.7          </td> <td>179.23</td>\n",
       "        </tr>\n",
       "        <tr>\n",
       "            <td>Chicago   </td> <td>423.22  </td> <td>306.94         </td> <td>442.14</td>\n",
       "        </tr>\n",
       "        <tr>\n",
       "            <td>Cincinnati</td> <td>125     </td> <td>202.69         </td> <td>175   </td>\n",
       "        </tr>\n",
       "        <tr>\n",
       "            <td>Cleveland </td> <td>125     </td> <td>288.65         </td> <td>215.8 </td>\n",
       "        </tr>\n",
       "        <tr>\n",
       "            <td>Columbus  </td> <td>79.25   </td> <td>0              </td> <td>169.3 </td>\n",
       "        </tr>\n",
       "        <tr>\n",
       "            <td>Dallas    </td> <td>176.48  </td> <td>280.72         </td> <td>270.06</td>\n",
       "        </tr>\n",
       "    </tbody>\n",
       "</table>\n",
       "<p>... (25 rows omitted)</p>"
      ],
      "text/plain": [
       "city       | concrete | mixed/composite | steel\n",
       "Atlanta    | 264.25   | 311.8           | 169.47\n",
       "Austin     | 208.15   | 0               | 93.6\n",
       "Baltimore  | 161.24   | 0               | 155.15\n",
       "Boston     | 121.92   | 139             | 240.79\n",
       "Charlotte  | 265.48   | 239.7           | 179.23\n",
       "Chicago    | 423.22   | 306.94          | 442.14\n",
       "Cincinnati | 125      | 202.69          | 175\n",
       "Cleveland  | 125      | 288.65          | 215.8\n",
       "Columbus   | 79.25    | 0               | 169.3\n",
       "Dallas     | 176.48   | 280.72          | 270.06\n",
       "... (25 rows omitted)"
      ]
     },
     "execution_count": 23,
     "metadata": {},
     "output_type": "execute_result"
    }
   ],
   "source": [
    "# 1. For each city, how tall is the tallest building for each material?\n",
    "\n",
    "sky.pivot('material','city','height',max)"
   ]
  },
  {
   "cell_type": "code",
   "execution_count": 24,
   "metadata": {},
   "outputs": [
    {
     "data": {
      "text/html": [
       "<table border=\"1\" class=\"dataframe\">\n",
       "    <thead>\n",
       "        <tr>\n",
       "            <th>city</th> <th>material</th> <th>height max</th>\n",
       "        </tr>\n",
       "    </thead>\n",
       "    <tbody>\n",
       "        <tr>\n",
       "            <td>Atlanta  </td> <td>concrete       </td> <td>264.25    </td>\n",
       "        </tr>\n",
       "        <tr>\n",
       "            <td>Atlanta  </td> <td>mixed/composite</td> <td>311.8     </td>\n",
       "        </tr>\n",
       "        <tr>\n",
       "            <td>Atlanta  </td> <td>steel          </td> <td>169.47    </td>\n",
       "        </tr>\n",
       "        <tr>\n",
       "            <td>Austin   </td> <td>concrete       </td> <td>208.15    </td>\n",
       "        </tr>\n",
       "        <tr>\n",
       "            <td>Austin   </td> <td>steel          </td> <td>93.6      </td>\n",
       "        </tr>\n",
       "        <tr>\n",
       "            <td>Baltimore</td> <td>concrete       </td> <td>161.24    </td>\n",
       "        </tr>\n",
       "        <tr>\n",
       "            <td>Baltimore</td> <td>steel          </td> <td>155.15    </td>\n",
       "        </tr>\n",
       "        <tr>\n",
       "            <td>Boston   </td> <td>concrete       </td> <td>121.92    </td>\n",
       "        </tr>\n",
       "        <tr>\n",
       "            <td>Boston   </td> <td>mixed/composite</td> <td>139       </td>\n",
       "        </tr>\n",
       "        <tr>\n",
       "            <td>Boston   </td> <td>steel          </td> <td>240.79    </td>\n",
       "        </tr>\n",
       "    </tbody>\n",
       "</table>\n",
       "<p>... (81 rows omitted)</p>"
      ],
      "text/plain": [
       "city      | material        | height max\n",
       "Atlanta   | concrete        | 264.25\n",
       "Atlanta   | mixed/composite | 311.8\n",
       "Atlanta   | steel           | 169.47\n",
       "Austin    | concrete        | 208.15\n",
       "Austin    | steel           | 93.6\n",
       "Baltimore | concrete        | 161.24\n",
       "Baltimore | steel           | 155.15\n",
       "Boston    | concrete        | 121.92\n",
       "Boston    | mixed/composite | 139\n",
       "Boston    | steel           | 240.79\n",
       "... (81 rows omitted)"
      ]
     },
     "execution_count": 24,
     "metadata": {},
     "output_type": "execute_result"
    }
   ],
   "source": [
    "sky.select('city','material','height').group(['city','material'],max)"
   ]
  },
  {
   "cell_type": "markdown",
   "metadata": {},
   "source": [
    "2. For each city, what’s the height difference between the tallest steel building and the tallest concrete building?"
   ]
  },
  {
   "cell_type": "code",
   "execution_count": null,
   "metadata": {},
   "outputs": [],
   "source": [
    "# 2. For each city, what’s the height difference between the tallest \n",
    "#    steel building and the tallest concrete building?\n",
    "\n",
    "\n",
    "\n",
    "\n",
    "\n",
    "\n",
    "\n"
   ]
  },
  {
   "cell_type": "markdown",
   "metadata": {},
   "source": [
    "3. Generate a table of the names of the oldest buildings for each material for each city:"
   ]
  },
  {
   "cell_type": "code",
   "execution_count": null,
   "metadata": {},
   "outputs": [],
   "source": [
    "# 3. Generate a table of the names of the oldest buildings for each \n",
    "#    material for each city:\n",
    "\n",
    "# Hint: You can use sort to find the name of the oldest building in the dataset\n",
    "sky.sort('age', descending=True).column('name').item(0)\n",
    "\n",
    "\n",
    "# Put your solution here\n",
    "\n",
    "\n",
    "\n",
    "\n",
    "\n",
    "\n"
   ]
  }
 ],
 "metadata": {
  "kernelspec": {
   "display_name": "Python 3 (ipykernel)",
   "language": "python",
   "name": "python3"
  },
  "language_info": {
   "codemirror_mode": {
    "name": "ipython",
    "version": 3
   },
   "file_extension": ".py",
   "mimetype": "text/x-python",
   "name": "python",
   "nbconvert_exporter": "python",
   "pygments_lexer": "ipython3",
   "version": "3.11.4"
  }
 },
 "nbformat": 4,
 "nbformat_minor": 4
}
