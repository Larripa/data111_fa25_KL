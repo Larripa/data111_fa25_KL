{
 "cells": [
  {
   "cell_type": "markdown",
   "metadata": {},
   "source": [
    "# Lecture 37: Evaluating the Accuracy of Classifiers"
   ]
  },
  {
   "cell_type": "code",
   "execution_count": 1,
   "metadata": {},
   "outputs": [],
   "source": [
    "from datascience import *\n",
    "import numpy as np\n",
    "import matplotlib\n",
    "from mpl_toolkits.mplot3d import Axes3D\n",
    "%matplotlib inline\n",
    "import matplotlib.pyplot as plots\n",
    "plots.style.use('fivethirtyeight')"
   ]
  },
  {
   "cell_type": "markdown",
   "metadata": {},
   "source": [
    "## Functions from last time"
   ]
  },
  {
   "cell_type": "code",
   "execution_count": 2,
   "metadata": {},
   "outputs": [],
   "source": [
    "def distance(pt1, pt2):\n",
    "    \"\"\"Return the distance between two points, represented as arrays\"\"\"\n",
    "    return np.sqrt(sum((pt1-pt2)**2))"
   ]
  },
  {
   "cell_type": "code",
   "execution_count": 3,
   "metadata": {},
   "outputs": [],
   "source": [
    "def row_distance(row1, row2):\n",
    "    \"\"\"Return the distance between two numerical rows of a table\"\"\"\n",
    "    row1_array = np.array(row1)\n",
    "    row2_array = np.array(row2)\n",
    "    return distance(row1_array,row2_array)"
   ]
  },
  {
   "cell_type": "code",
   "execution_count": 4,
   "metadata": {},
   "outputs": [],
   "source": [
    "def distances(training, example):\n",
    "    \"\"\"\n",
    "    Compute distance between example and every row in training.\n",
    "    Return training augmented with Distance column\n",
    "    \"\"\"\n",
    "    distances = make_array()\n",
    "    attributes_only = training.drop('Class')\n",
    "    \n",
    "    for row in attributes_only.rows:\n",
    "        distances = np.append(distances,row_distance(row,example)) # append distance between row and example\n",
    "        \n",
    "    return training.with_column('Distance_to_ex', distances)"
   ]
  },
  {
   "cell_type": "code",
   "execution_count": 5,
   "metadata": {},
   "outputs": [],
   "source": [
    "def closest(training, example, k):\n",
    "    \"\"\"\n",
    "    Return a table of the k closest neighbors to example\n",
    "    \"\"\"\n",
    "    sorted_distances = distances(training,example).sort('Distance_to_ex')\n",
    "    return sorted_distances.take(np.arange(k))"
   ]
  },
  {
   "cell_type": "code",
   "execution_count": 6,
   "metadata": {},
   "outputs": [],
   "source": [
    "def majority_class(topk):\n",
    "    \"\"\"\n",
    "    Return the class with the highest count\n",
    "    \"\"\"\n",
    "    return topk.group('Class').sort('count', descending=True).column(0).item(0)"
   ]
  },
  {
   "cell_type": "code",
   "execution_count": 7,
   "metadata": {},
   "outputs": [],
   "source": [
    "def classify(training, example, k):\n",
    "    \"\"\"\n",
    "    Return the majority class among the \n",
    "    k nearest neighbors of example\n",
    "    \"\"\"\n",
    "    return majority_class(closest(training, example, k))"
   ]
  },
  {
   "cell_type": "markdown",
   "metadata": {},
   "source": [
    "## Returning to Google Science Fair example"
   ]
  },
  {
   "cell_type": "code",
   "execution_count": 8,
   "metadata": {},
   "outputs": [
    {
     "data": {
      "text/html": [
       "<table border=\"1\" class=\"dataframe\">\n",
       "    <thead>\n",
       "        <tr>\n",
       "            <th>Clump Thickness</th> <th>Uniformity of Cell Size</th> <th>Uniformity of Cell Shape</th> <th>Marginal Adhesion</th> <th>Single Epithelial Cell Size</th> <th>Bare Nuclei</th> <th>Bland Chromatin</th> <th>Normal Nucleoli</th> <th>Mitoses</th>\n",
       "        </tr>\n",
       "    </thead>\n",
       "    <tbody>\n",
       "        <tr>\n",
       "            <td>5              </td> <td>1                      </td> <td>1                       </td> <td>1                </td> <td>2                          </td> <td>1          </td> <td>3              </td> <td>1              </td> <td>1      </td>\n",
       "        </tr>\n",
       "        <tr>\n",
       "            <td>5              </td> <td>4                      </td> <td>4                       </td> <td>5                </td> <td>7                          </td> <td>10         </td> <td>3              </td> <td>2              </td> <td>1      </td>\n",
       "        </tr>\n",
       "        <tr>\n",
       "            <td>3              </td> <td>1                      </td> <td>1                       </td> <td>1                </td> <td>2                          </td> <td>2          </td> <td>3              </td> <td>1              </td> <td>1      </td>\n",
       "        </tr>\n",
       "    </tbody>\n",
       "</table>\n",
       "<p>... (680 rows omitted)</p>"
      ],
      "text/plain": [
       "<IPython.core.display.HTML object>"
      ]
     },
     "metadata": {},
     "output_type": "display_data"
    }
   ],
   "source": [
    "# Data\n",
    "patients = Table.read_table('breast-cancer.csv').drop('ID')\n",
    "attributes = patients.drop('Class')\n",
    "attributes.show(3)"
   ]
  },
  {
   "cell_type": "markdown",
   "metadata": {},
   "source": [
    "## Accuracy of a Classifier ##"
   ]
  },
  {
   "cell_type": "code",
   "execution_count": 9,
   "metadata": {},
   "outputs": [
    {
     "data": {
      "text/plain": [
       "683"
      ]
     },
     "execution_count": 9,
     "metadata": {},
     "output_type": "execute_result"
    }
   ],
   "source": [
    "patients.num_rows"
   ]
  },
  {
   "cell_type": "code",
   "execution_count": 10,
   "metadata": {},
   "outputs": [],
   "source": [
    "shuffled = patients.sample(with_replacement=False) # Randomly permute the rows\n",
    "training_set = shuffled.take(np.arange(342))\n",
    "test_set  = shuffled.take(np.arange(342, 683))"
   ]
  },
  {
   "cell_type": "code",
   "execution_count": 11,
   "metadata": {},
   "outputs": [],
   "source": [
    "def evaluate_accuracy(training, test, k):\n",
    "    \"\"\"Return the proportion of correctly classified examples \n",
    "    in the test set\"\"\"\n",
    "    test_attributes = test.drop('Class')\n",
    "    num_correct = 0\n",
    "    for i in np.arange(test.num_rows):\n",
    "        c = classify(training, test_attributes.row(i), k)\n",
    "        is_correct = (c == test.column('Class').item(i))\n",
    "        num_correct = num_correct + is_correct\n",
    "    return num_correct / test.num_rows"
   ]
  },
  {
   "cell_type": "code",
   "execution_count": 12,
   "metadata": {},
   "outputs": [
    {
     "data": {
      "text/plain": [
       "0.967741935483871"
      ]
     },
     "execution_count": 12,
     "metadata": {},
     "output_type": "execute_result"
    }
   ],
   "source": [
    "evaluate_accuracy(training_set, test_set, 5)"
   ]
  },
  {
   "cell_type": "code",
   "execution_count": 13,
   "metadata": {},
   "outputs": [
    {
     "data": {
      "text/plain": [
       "0.9794721407624634"
      ]
     },
     "execution_count": 13,
     "metadata": {},
     "output_type": "execute_result"
    }
   ],
   "source": [
    "evaluate_accuracy(training_set, test_set, 3)"
   ]
  },
  {
   "cell_type": "code",
   "execution_count": 14,
   "metadata": {
    "scrolled": true
   },
   "outputs": [
    {
     "data": {
      "text/plain": [
       "0.9648093841642229"
      ]
     },
     "execution_count": 14,
     "metadata": {},
     "output_type": "execute_result"
    }
   ],
   "source": [
    "evaluate_accuracy(training_set, test_set, 11)"
   ]
  },
  {
   "cell_type": "code",
   "execution_count": 15,
   "metadata": {
    "tags": []
   },
   "outputs": [
    {
     "data": {
      "text/plain": [
       "0.9530791788856305"
      ]
     },
     "execution_count": 15,
     "metadata": {},
     "output_type": "execute_result"
    }
   ],
   "source": [
    "evaluate_accuracy(training_set, test_set, 1)"
   ]
  },
  {
   "cell_type": "markdown",
   "metadata": {},
   "source": [
    "# Standardize if Necessary"
   ]
  },
  {
   "cell_type": "code",
   "execution_count": 16,
   "metadata": {},
   "outputs": [],
   "source": [
    "def standard_units(x):\n",
    "    return (x - np.average(x)) / np.std(x)"
   ]
  },
  {
   "cell_type": "code",
   "execution_count": 17,
   "metadata": {
    "tags": []
   },
   "outputs": [
    {
     "data": {
      "text/html": [
       "<table border=\"1\" class=\"dataframe\">\n",
       "    <thead>\n",
       "        <tr>\n",
       "            <th>Glucose</th> <th>Hemoglobin</th> <th>White Blood Cell Count</th> <th>Class</th>\n",
       "        </tr>\n",
       "    </thead>\n",
       "    <tbody>\n",
       "        <tr>\n",
       "            <td>117    </td> <td>11.2      </td> <td>6700                  </td> <td>1    </td>\n",
       "        </tr>\n",
       "        <tr>\n",
       "            <td>70     </td> <td>9.5       </td> <td>12100                 </td> <td>1    </td>\n",
       "        </tr>\n",
       "        <tr>\n",
       "            <td>380    </td> <td>10.8      </td> <td>4500                  </td> <td>1    </td>\n",
       "        </tr>\n",
       "        <tr>\n",
       "            <td>157    </td> <td>5.6       </td> <td>11000                 </td> <td>1    </td>\n",
       "        </tr>\n",
       "        <tr>\n",
       "            <td>173    </td> <td>7.7       </td> <td>9200                  </td> <td>1    </td>\n",
       "        </tr>\n",
       "    </tbody>\n",
       "</table>\n",
       "<p>... (153 rows omitted)</p>"
      ],
      "text/plain": [
       "<IPython.core.display.HTML object>"
      ]
     },
     "metadata": {},
     "output_type": "display_data"
    }
   ],
   "source": [
    "ckd = Table.read_table('ckd.csv')\n",
    "ckd = ckd.relabeled('Blood Glucose Random', 'Glucose').select('Glucose', 'Hemoglobin', 'White Blood Cell Count', 'Class')\n",
    "ckd.show(5)"
   ]
  },
  {
   "cell_type": "code",
   "execution_count": 18,
   "metadata": {},
   "outputs": [],
   "source": [
    "ckd_new = ckd.select('Class').with_columns(\n",
    "    'Glucose_su', standard_units(ckd.column('Glucose')),\n",
    "    'Hemoglobin_su', standard_units(ckd.column('Hemoglobin')),\n",
    "    'WBC_su', standard_units(ckd.column('White Blood Cell Count'))\n",
    ")"
   ]
  },
  {
   "cell_type": "code",
   "execution_count": 19,
   "metadata": {},
   "outputs": [
    {
     "data": {
      "text/html": [
       "<table border=\"1\" class=\"dataframe\">\n",
       "    <thead>\n",
       "        <tr>\n",
       "            <th>Class</th> <th>Glucose_su</th> <th>Hemoglobin_su</th> <th>WBC_su</th>\n",
       "        </tr>\n",
       "    </thead>\n",
       "    <tbody>\n",
       "        <tr>\n",
       "            <td>1    </td> <td>-0.221549 </td> <td>-0.865744    </td> <td>-0.569768</td>\n",
       "        </tr>\n",
       "        <tr>\n",
       "            <td>1    </td> <td>-0.947597 </td> <td>-1.45745     </td> <td>1.16268  </td>\n",
       "        </tr>\n",
       "        <tr>\n",
       "            <td>1    </td> <td>3.84123   </td> <td>-1.00497     </td> <td>-1.27558 </td>\n",
       "        </tr>\n",
       "        <tr>\n",
       "            <td>1    </td> <td>0.396364  </td> <td>-2.81488     </td> <td>0.809777 </td>\n",
       "        </tr>\n",
       "        <tr>\n",
       "            <td>1    </td> <td>0.643529  </td> <td>-2.08395     </td> <td>0.232293 </td>\n",
       "        </tr>\n",
       "        <tr>\n",
       "            <td>1    </td> <td>-0.561402 </td> <td>-1.35303     </td> <td>-0.505603</td>\n",
       "        </tr>\n",
       "        <tr>\n",
       "            <td>1    </td> <td>2.04928   </td> <td>-0.413266    </td> <td>0.360623 </td>\n",
       "        </tr>\n",
       "        <tr>\n",
       "            <td>1    </td> <td>-0.947597 </td> <td>-1.28342     </td> <td>3.34429  </td>\n",
       "        </tr>\n",
       "        <tr>\n",
       "            <td>1    </td> <td>1.87936   </td> <td>-1.10939     </td> <td>-0.409356</td>\n",
       "        </tr>\n",
       "        <tr>\n",
       "            <td>1    </td> <td>0.489051  </td> <td>-1.35303     </td> <td>1.96475  </td>\n",
       "        </tr>\n",
       "    </tbody>\n",
       "</table>\n",
       "<p>... (148 rows omitted)</p>"
      ],
      "text/plain": [
       "Class | Glucose_su | Hemoglobin_su | WBC_su\n",
       "1     | -0.221549  | -0.865744     | -0.569768\n",
       "1     | -0.947597  | -1.45745      | 1.16268\n",
       "1     | 3.84123    | -1.00497      | -1.27558\n",
       "1     | 0.396364   | -2.81488      | 0.809777\n",
       "1     | 0.643529   | -2.08395      | 0.232293\n",
       "1     | -0.561402  | -1.35303      | -0.505603\n",
       "1     | 2.04928    | -0.413266     | 0.360623\n",
       "1     | -0.947597  | -1.28342      | 3.34429\n",
       "1     | 1.87936    | -1.10939      | -0.409356\n",
       "1     | 0.489051   | -1.35303      | 1.96475\n",
       "... (148 rows omitted)"
      ]
     },
     "execution_count": 19,
     "metadata": {},
     "output_type": "execute_result"
    }
   ],
   "source": [
    "ckd_new"
   ]
  },
  {
   "cell_type": "code",
   "execution_count": 20,
   "metadata": {},
   "outputs": [],
   "source": [
    "eshuffled = ckd_new.sample(with_replacement=False) \n",
    "training_set = shuffled.take(np.arange(74))\n",
    "test_set  = shuffled.take(np.arange(74, 148))"
   ]
  },
  {
   "cell_type": "code",
   "execution_count": 21,
   "metadata": {},
   "outputs": [
    {
     "data": {
      "text/plain": [
       "0.972972972972973"
      ]
     },
     "execution_count": 21,
     "metadata": {},
     "output_type": "execute_result"
    }
   ],
   "source": [
    "evaluate_accuracy(training_set, test_set, 3)"
   ]
  },
  {
   "cell_type": "code",
   "execution_count": 22,
   "metadata": {},
   "outputs": [],
   "source": [
    "shuffled = ckd.sample(with_replacement=False) \n",
    "training_set = shuffled.take(np.arange(74))\n",
    "test_set  = shuffled.take(np.arange(74, 148))"
   ]
  },
  {
   "cell_type": "code",
   "execution_count": 23,
   "metadata": {},
   "outputs": [
    {
     "data": {
      "text/plain": [
       "0.7837837837837838"
      ]
     },
     "execution_count": 23,
     "metadata": {},
     "output_type": "execute_result"
    }
   ],
   "source": [
    "evaluate_accuracy(training_set, test_set, 3)"
   ]
  },
  {
   "cell_type": "markdown",
   "metadata": {},
   "source": [
    "## Updating Probabilities ##"
   ]
  },
  {
   "cell_type": "code",
   "execution_count": 24,
   "metadata": {},
   "outputs": [],
   "source": [
    "n = 100\n",
    "second = round(n * 0.6)\n",
    "third = round(n * 0.4)\n",
    "\n",
    "year = np.array(['Second'] * second + ['Third'] * third)\n",
    "major = np.array(['Declared'] * (round(second * 0.5)) + ['Undeclared'] * (round(second * 0.5)) + \\\n",
    "                 ['Declared'] * (round(third * 0.8))  + ['Undeclared'] * (round(third * 0.2)))\n",
    "                 \n",
    "students = Table().with_columns(\n",
    "    'Year', year,\n",
    "    'Major', major\n",
    ")"
   ]
  },
  {
   "cell_type": "code",
   "execution_count": 25,
   "metadata": {},
   "outputs": [
    {
     "data": {
      "text/html": [
       "<table border=\"1\" class=\"dataframe\">\n",
       "    <thead>\n",
       "        <tr>\n",
       "            <th>Year</th> <th>Major</th>\n",
       "        </tr>\n",
       "    </thead>\n",
       "    <tbody>\n",
       "        <tr>\n",
       "            <td>Second</td> <td>Declared</td>\n",
       "        </tr>\n",
       "        <tr>\n",
       "            <td>Second</td> <td>Declared</td>\n",
       "        </tr>\n",
       "        <tr>\n",
       "            <td>Second</td> <td>Declared</td>\n",
       "        </tr>\n",
       "    </tbody>\n",
       "</table>\n",
       "<p>... (97 rows omitted)</p>"
      ],
      "text/plain": [
       "<IPython.core.display.HTML object>"
      ]
     },
     "metadata": {},
     "output_type": "display_data"
    }
   ],
   "source": [
    "students.show(3)"
   ]
  },
  {
   "cell_type": "code",
   "execution_count": 26,
   "metadata": {},
   "outputs": [
    {
     "data": {
      "text/html": [
       "<table border=\"1\" class=\"dataframe\">\n",
       "    <thead>\n",
       "        <tr>\n",
       "            <th>Year</th> <th>Declared</th> <th>Undeclared</th>\n",
       "        </tr>\n",
       "    </thead>\n",
       "    <tbody>\n",
       "        <tr>\n",
       "            <td>Second</td> <td>30      </td> <td>30        </td>\n",
       "        </tr>\n",
       "        <tr>\n",
       "            <td>Third </td> <td>32      </td> <td>8         </td>\n",
       "        </tr>\n",
       "    </tbody>\n",
       "</table>"
      ],
      "text/plain": [
       "Year   | Declared | Undeclared\n",
       "Second | 30       | 30\n",
       "Third  | 32       | 8"
      ]
     },
     "execution_count": 26,
     "metadata": {},
     "output_type": "execute_result"
    }
   ],
   "source": [
    "students.pivot('Major', 'Year')"
   ]
  },
  {
   "cell_type": "code",
   "execution_count": 27,
   "metadata": {},
   "outputs": [
    {
     "data": {
      "text/plain": [
       "0.6"
      ]
     },
     "execution_count": 27,
     "metadata": {},
     "output_type": "execute_result"
    }
   ],
   "source": [
    "# Verify: 60% of students are Second years, 40% are Third years\n",
    "60 / (60 + 40)"
   ]
  },
  {
   "cell_type": "code",
   "execution_count": 28,
   "metadata": {},
   "outputs": [
    {
     "data": {
      "text/plain": [
       "0.5"
      ]
     },
     "execution_count": 28,
     "metadata": {},
     "output_type": "execute_result"
    }
   ],
   "source": [
    "# Verify: 50% of Second years have Declared\n",
    "30 / 60"
   ]
  },
  {
   "cell_type": "code",
   "execution_count": 29,
   "metadata": {},
   "outputs": [
    {
     "data": {
      "text/plain": [
       "0.8"
      ]
     },
     "execution_count": 29,
     "metadata": {},
     "output_type": "execute_result"
    }
   ],
   "source": [
    "# Verify: 80% of Third years have Declared\n",
    "32 / 40"
   ]
  },
  {
   "cell_type": "code",
   "execution_count": null,
   "metadata": {},
   "outputs": [],
   "source": [
    "# Chance of second year, given that they have declared\n",
    "# P(second year | declared)\n",
    "\n",
    "30 / 62"
   ]
  },
  {
   "cell_type": "code",
   "execution_count": null,
   "metadata": {},
   "outputs": [],
   "source": [
    "# P(third year | declared)\n",
    "\n",
    "32 / 62"
   ]
  },
  {
   "cell_type": "markdown",
   "metadata": {},
   "source": [
    "## Tree Diagram Calculation"
   ]
  },
  {
   "cell_type": "code",
   "execution_count": null,
   "metadata": {},
   "outputs": [],
   "source": [
    "# P(second year | declared), from tree diagram\n",
    "\n",
    "(0.6 * 0.5) / (0.6 * 0.5 + 0.4 * 0.8)"
   ]
  },
  {
   "cell_type": "markdown",
   "metadata": {},
   "source": [
    "## Decisions ##"
   ]
  },
  {
   "cell_type": "code",
   "execution_count": null,
   "metadata": {},
   "outputs": [],
   "source": [
    "def create_population(prior_disease_prob, n):\n",
    "    disease = round(n * prior_disease_prob)\n",
    "    no_disease = round(n * (1 - prior_disease_prob))\n",
    "\n",
    "    status = np.array(['Disease'] * disease  +  ['No disease'] * no_disease)\n",
    "    result = np.array(['Test +'] * (round(disease * 0.99)) + ['Test -'] * (round(disease * 0.01)) +\\\n",
    "                      ['Test +'] * (round(no_disease * 0.05)) + ['Test -'] * (round(no_disease * 0.95)) )\n",
    "                 \n",
    "    t = Table().with_columns(\n",
    "    'Status', status,\n",
    "    'Test Result', result\n",
    "    )\n",
    "    return t.pivot('Test Result', 'Status')"
   ]
  },
  {
   "cell_type": "code",
   "execution_count": null,
   "metadata": {},
   "outputs": [],
   "source": [
    "create_population(1/1000, 100000)"
   ]
  },
  {
   "cell_type": "code",
   "execution_count": null,
   "metadata": {},
   "outputs": [],
   "source": [
    "99 / (99 + 4995)"
   ]
  },
  {
   "cell_type": "code",
   "execution_count": null,
   "metadata": {},
   "outputs": [],
   "source": [
    "#P(disease | tested +)\n",
    "\n",
    "# = P(disease & tested +) / P(tested +)\n",
    "\n",
    "(0.001 * 0.99) / (0.001*0.99 + 0.999*0.05)"
   ]
  },
  {
   "cell_type": "markdown",
   "metadata": {},
   "source": [
    "## Subjective Probabilities"
   ]
  },
  {
   "cell_type": "code",
   "execution_count": null,
   "metadata": {},
   "outputs": [],
   "source": [
    "# P(disease | tested +)\n",
    "\n",
    "# = P(disease & tested +) / P(tested +)\n",
    "\n",
    "# if prior probability of disease is 1/10\n",
    "\n",
    "(0.1 * 0.99) / (0.1*0.99 + 0.9*0.05)"
   ]
  },
  {
   "cell_type": "code",
   "execution_count": null,
   "metadata": {},
   "outputs": [],
   "source": [
    "create_population(1/10, 10000)"
   ]
  },
  {
   "cell_type": "code",
   "execution_count": null,
   "metadata": {},
   "outputs": [],
   "source": [
    "990/(990+450)"
   ]
  },
  {
   "cell_type": "code",
   "execution_count": null,
   "metadata": {},
   "outputs": [],
   "source": [
    "# P(disease | tested +)\n",
    "# if prior probability of disease is 0.5\n",
    "\n",
    "(0.5 * 0.99) / (0.5*0.99 + 0.5*0.05)"
   ]
  },
  {
   "cell_type": "code",
   "execution_count": null,
   "metadata": {},
   "outputs": [],
   "source": [
    "create_population(0.5, 10000)"
   ]
  },
  {
   "cell_type": "code",
   "execution_count": null,
   "metadata": {},
   "outputs": [],
   "source": [
    "4950/(4950+250)"
   ]
  },
  {
   "cell_type": "code",
   "execution_count": null,
   "metadata": {},
   "outputs": [],
   "source": []
  }
 ],
 "metadata": {
  "kernelspec": {
   "display_name": "Python 3 (ipykernel)",
   "language": "python",
   "name": "python3"
  },
  "language_info": {
   "codemirror_mode": {
    "name": "ipython",
    "version": 3
   },
   "file_extension": ".py",
   "mimetype": "text/x-python",
   "name": "python",
   "nbconvert_exporter": "python",
   "pygments_lexer": "ipython3",
   "version": "3.11.4"
  }
 },
 "nbformat": 4,
 "nbformat_minor": 4
}
