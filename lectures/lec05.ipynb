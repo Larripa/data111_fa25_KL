{
 "cells": [
  {
   "cell_type": "markdown",
   "metadata": {},
   "source": [
    "If you want to type along with me, head to [this notebook](https://humboldt.cloudbank.2i2c.cloud/hub/user-redirect/git-pull?repo=https%3A%2F%2Fgithub.com%2Fbethanyj0%2Fdata111_fa24&branch=main&urlpath=lab%2Ftree%2Fdata111_fa24%2Flectures%2Flec05_live.ipynb) instead. If you prefer follow along by executing the cells, stay in this notebook."
   ]
  },
  {
   "cell_type": "code",
   "execution_count": 1,
   "metadata": {},
   "outputs": [],
   "source": [
    "from datascience import *\n",
    "import numpy as np"
   ]
  },
  {
   "cell_type": "markdown",
   "metadata": {},
   "source": [
    "## Arrays Recap and more ##"
   ]
  },
  {
   "cell_type": "code",
   "execution_count": 2,
   "metadata": {},
   "outputs": [],
   "source": [
    "first_four = make_array(1, 2, 3, 4)"
   ]
  },
  {
   "cell_type": "code",
   "execution_count": 3,
   "metadata": {},
   "outputs": [
    {
     "data": {
      "text/plain": [
       "array([1, 2, 3, 4])"
      ]
     },
     "execution_count": 3,
     "metadata": {},
     "output_type": "execute_result"
    }
   ],
   "source": [
    "first_four"
   ]
  },
  {
   "cell_type": "code",
   "execution_count": 4,
   "metadata": {},
   "outputs": [
    {
     "data": {
      "text/plain": [
       "array([2, 4, 6, 8])"
      ]
     },
     "execution_count": 4,
     "metadata": {},
     "output_type": "execute_result"
    }
   ],
   "source": [
    "first_four * 2"
   ]
  },
  {
   "cell_type": "code",
   "execution_count": 5,
   "metadata": {},
   "outputs": [
    {
     "data": {
      "text/plain": [
       "array([ 1,  4,  9, 16])"
      ]
     },
     "execution_count": 5,
     "metadata": {},
     "output_type": "execute_result"
    }
   ],
   "source": [
    "first_four ** 2"
   ]
  },
  {
   "cell_type": "code",
   "execution_count": 6,
   "metadata": {},
   "outputs": [
    {
     "data": {
      "text/plain": [
       "numpy.ndarray"
      ]
     },
     "execution_count": 6,
     "metadata": {},
     "output_type": "execute_result"
    }
   ],
   "source": [
    "type(first_four)"
   ]
  },
  {
   "cell_type": "code",
   "execution_count": 7,
   "metadata": {},
   "outputs": [],
   "source": [
    "next_four = make_array(5, 6, 7, 8)"
   ]
  },
  {
   "cell_type": "code",
   "execution_count": 8,
   "metadata": {},
   "outputs": [
    {
     "data": {
      "text/plain": [
       "array([ 6,  8, 10, 12])"
      ]
     },
     "execution_count": 8,
     "metadata": {},
     "output_type": "execute_result"
    }
   ],
   "source": [
    "first_four + next_four"
   ]
  },
  {
   "cell_type": "code",
   "execution_count": 9,
   "metadata": {},
   "outputs": [],
   "source": [
    "only_three = make_array(5, 6, 7)"
   ]
  },
  {
   "cell_type": "code",
   "execution_count": 10,
   "metadata": {
    "tags": [
     "raises-exception"
    ]
   },
   "outputs": [
    {
     "ename": "ValueError",
     "evalue": "operands could not be broadcast together with shapes (4,) (3,) ",
     "output_type": "error",
     "traceback": [
      "\u001b[0;31m---------------------------------------------------------------------------\u001b[0m",
      "\u001b[0;31mValueError\u001b[0m                                Traceback (most recent call last)",
      "Cell \u001b[0;32mIn[10], line 2\u001b[0m\n\u001b[1;32m      1\u001b[0m \u001b[38;5;66;03m# This line will cause an error \u001b[39;00m\n\u001b[0;32m----> 2\u001b[0m first_four \u001b[38;5;241m+\u001b[39m only_three\n",
      "\u001b[0;31mValueError\u001b[0m: operands could not be broadcast together with shapes (4,) (3,) "
     ]
    }
   ],
   "source": [
    "# This line will cause an error \n",
    "first_four + only_three"
   ]
  },
  {
   "cell_type": "code",
   "execution_count": 11,
   "metadata": {},
   "outputs": [
    {
     "data": {
      "text/plain": [
       "1"
      ]
     },
     "execution_count": 11,
     "metadata": {},
     "output_type": "execute_result"
    }
   ],
   "source": [
    "min(first_four)"
   ]
  },
  {
   "cell_type": "code",
   "execution_count": 12,
   "metadata": {},
   "outputs": [
    {
     "data": {
      "text/plain": [
       "array([1, 2, 3, 4])"
      ]
     },
     "execution_count": 12,
     "metadata": {},
     "output_type": "execute_result"
    }
   ],
   "source": [
    "first_four # array is unchanged, just like when we call show/select/drop on Table"
   ]
  },
  {
   "cell_type": "code",
   "execution_count": 13,
   "metadata": {},
   "outputs": [],
   "source": [
    "str_array = make_array('ha', 'he', 'ho')"
   ]
  },
  {
   "cell_type": "code",
   "execution_count": 14,
   "metadata": {},
   "outputs": [
    {
     "data": {
      "text/plain": [
       "3"
      ]
     },
     "execution_count": 14,
     "metadata": {},
     "output_type": "execute_result"
    }
   ],
   "source": [
    "# Check the number of elements\n",
    "len(str_array)"
   ]
  },
  {
   "cell_type": "code",
   "execution_count": 15,
   "metadata": {
    "tags": []
   },
   "outputs": [
    {
     "data": {
      "text/plain": [
       "array([ 1.,  2.,  3.])"
      ]
     },
     "execution_count": 15,
     "metadata": {},
     "output_type": "execute_result"
    }
   ],
   "source": [
    "make_array(1.0,2,3)"
   ]
  },
  {
   "cell_type": "code",
   "execution_count": 16,
   "metadata": {
    "tags": []
   },
   "outputs": [
    {
     "data": {
      "text/plain": [
       "array(['ha', '2', '3'],\n",
       "      dtype='<U21')"
      ]
     },
     "execution_count": 16,
     "metadata": {},
     "output_type": "execute_result"
    }
   ],
   "source": [
    "make_array('ha',2,3)"
   ]
  },
  {
   "cell_type": "code",
   "execution_count": 17,
   "metadata": {},
   "outputs": [
    {
     "data": {
      "text/plain": [
       "1"
      ]
     },
     "execution_count": 17,
     "metadata": {},
     "output_type": "execute_result"
    }
   ],
   "source": [
    "first_four.item(0)"
   ]
  },
  {
   "cell_type": "code",
   "execution_count": 18,
   "metadata": {},
   "outputs": [
    {
     "data": {
      "text/plain": [
       "2"
      ]
     },
     "execution_count": 18,
     "metadata": {},
     "output_type": "execute_result"
    }
   ],
   "source": [
    "first_four.item(1)"
   ]
  },
  {
   "cell_type": "code",
   "execution_count": 19,
   "metadata": {
    "tags": []
   },
   "outputs": [
    {
     "data": {
      "text/plain": [
       "4"
      ]
     },
     "execution_count": 19,
     "metadata": {},
     "output_type": "execute_result"
    }
   ],
   "source": [
    "# Select the last item\n",
    "first_four.item(-1)"
   ]
  },
  {
   "cell_type": "code",
   "execution_count": 20,
   "metadata": {},
   "outputs": [
    {
     "data": {
      "text/plain": [
       "10"
      ]
     },
     "execution_count": 20,
     "metadata": {},
     "output_type": "execute_result"
    }
   ],
   "source": [
    "sum(first_four)"
   ]
  },
  {
   "cell_type": "code",
   "execution_count": 21,
   "metadata": {},
   "outputs": [
    {
     "data": {
      "text/plain": [
       "2.5"
      ]
     },
     "execution_count": 21,
     "metadata": {},
     "output_type": "execute_result"
    }
   ],
   "source": [
    "np.average(first_four)"
   ]
  },
  {
   "cell_type": "markdown",
   "metadata": {},
   "source": [
    "**Activity** What is the average of all *even* numbers between 2 and 16 (inclusive)?"
   ]
  },
  {
   "cell_type": "code",
   "execution_count": null,
   "metadata": {},
   "outputs": [],
   "source": []
  },
  {
   "cell_type": "markdown",
   "metadata": {},
   "source": [
    "## Columns of Tables are Arrays ##"
   ]
  },
  {
   "cell_type": "code",
   "execution_count": 22,
   "metadata": {},
   "outputs": [
    {
     "data": {
      "text/html": [
       "<table border=\"1\" class=\"dataframe\">\n",
       "    <thead>\n",
       "        <tr>\n",
       "            <th>rank</th> <th>name</th> <th>position</th> <th>team</th> <th>salary</th>\n",
       "        </tr>\n",
       "    </thead>\n",
       "    <tbody>\n",
       "        <tr>\n",
       "            <td>1   </td> <td>Stephen Curry    </td> <td>PG      </td> <td>Golden State Warriors</td> <td>40231758</td>\n",
       "        </tr>\n",
       "        <tr>\n",
       "            <td>2   </td> <td>Chris Paul       </td> <td>PG      </td> <td>Oklahoma City Thunder</td> <td>38506482</td>\n",
       "        </tr>\n",
       "        <tr>\n",
       "            <td>3   </td> <td>Russell Westbrook</td> <td>PG      </td> <td>Houston Rockets      </td> <td>38506482</td>\n",
       "        </tr>\n",
       "        <tr>\n",
       "            <td>4   </td> <td>John Wall        </td> <td>PG      </td> <td>Washington Wizards   </td> <td>38199000</td>\n",
       "        </tr>\n",
       "        <tr>\n",
       "            <td>5   </td> <td>Kevin Durant     </td> <td>SF      </td> <td>Brooklyn Nets        </td> <td>38199000</td>\n",
       "        </tr>\n",
       "    </tbody>\n",
       "</table>\n",
       "<p>... (523 rows omitted)</p>"
      ],
      "text/plain": [
       "<IPython.core.display.HTML object>"
      ]
     },
     "metadata": {},
     "output_type": "display_data"
    }
   ],
   "source": [
    "nba = Table.read_table('nba_salaries.csv').where('season', 2020).drop('season')\n",
    "nba.show(5)"
   ]
  },
  {
   "cell_type": "code",
   "execution_count": 23,
   "metadata": {},
   "outputs": [
    {
     "data": {
      "text/plain": [
       "528"
      ]
     },
     "execution_count": 23,
     "metadata": {},
     "output_type": "execute_result"
    }
   ],
   "source": [
    "nba.num_rows"
   ]
  },
  {
   "cell_type": "code",
   "execution_count": 24,
   "metadata": {},
   "outputs": [
    {
     "data": {
      "text/plain": [
       "5"
      ]
     },
     "execution_count": 24,
     "metadata": {},
     "output_type": "execute_result"
    }
   ],
   "source": [
    "nba.num_columns"
   ]
  },
  {
   "cell_type": "code",
   "execution_count": 25,
   "metadata": {},
   "outputs": [
    {
     "data": {
      "text/plain": [
       "('rank', 'name', 'position', 'team', 'salary')"
      ]
     },
     "execution_count": 25,
     "metadata": {},
     "output_type": "execute_result"
    }
   ],
   "source": [
    "nba.labels"
   ]
  },
  {
   "cell_type": "code",
   "execution_count": 26,
   "metadata": {},
   "outputs": [
    {
     "data": {
      "text/html": [
       "<table border=\"1\" class=\"dataframe\">\n",
       "    <thead>\n",
       "        <tr>\n",
       "            <th>rank</th> <th>name</th> <th>position</th> <th>team</th> <th>salary</th>\n",
       "        </tr>\n",
       "    </thead>\n",
       "    <tbody>\n",
       "        <tr>\n",
       "            <td>1   </td> <td>Stephen Curry      </td> <td>PG      </td> <td>Golden State Warriors</td> <td>40231758</td>\n",
       "        </tr>\n",
       "        <tr>\n",
       "            <td>13  </td> <td>Klay Thompson      </td> <td>SG      </td> <td>Golden State Warriors</td> <td>32742000</td>\n",
       "        </tr>\n",
       "        <tr>\n",
       "            <td>60  </td> <td>Draymond Green     </td> <td>PF      </td> <td>Golden State Warriors</td> <td>18539130</td>\n",
       "        </tr>\n",
       "        <tr>\n",
       "            <td>223 </td> <td>Kevon Looney       </td> <td>PF      </td> <td>Golden State Warriors</td> <td>4464226 </td>\n",
       "        </tr>\n",
       "        <tr>\n",
       "            <td>316 </td> <td>Willie Cauley-Stein</td> <td>C       </td> <td>Golden State Warriors</td> <td>2177483 </td>\n",
       "        </tr>\n",
       "    </tbody>\n",
       "</table>\n",
       "<p>... (8 rows omitted)</p>"
      ],
      "text/plain": [
       "<IPython.core.display.HTML object>"
      ]
     },
     "metadata": {},
     "output_type": "display_data"
    }
   ],
   "source": [
    "warriors = nba.where('team', 'Golden State Warriors')\n",
    "warriors.show(5)"
   ]
  },
  {
   "cell_type": "code",
   "execution_count": 27,
   "metadata": {},
   "outputs": [
    {
     "data": {
      "text/html": [
       "<table border=\"1\" class=\"dataframe\">\n",
       "    <thead>\n",
       "        <tr>\n",
       "            <th>rank</th> <th>name</th> <th>position</th> <th>team</th> <th>$</th>\n",
       "        </tr>\n",
       "    </thead>\n",
       "    <tbody>\n",
       "        <tr>\n",
       "            <td>1   </td> <td>Stephen Curry      </td> <td>PG      </td> <td>Golden State Warriors</td> <td>40231758</td>\n",
       "        </tr>\n",
       "        <tr>\n",
       "            <td>13  </td> <td>Klay Thompson      </td> <td>SG      </td> <td>Golden State Warriors</td> <td>32742000</td>\n",
       "        </tr>\n",
       "        <tr>\n",
       "            <td>60  </td> <td>Draymond Green     </td> <td>PF      </td> <td>Golden State Warriors</td> <td>18539130</td>\n",
       "        </tr>\n",
       "        <tr>\n",
       "            <td>223 </td> <td>Kevon Looney       </td> <td>PF      </td> <td>Golden State Warriors</td> <td>4464226 </td>\n",
       "        </tr>\n",
       "        <tr>\n",
       "            <td>316 </td> <td>Willie Cauley-Stein</td> <td>C       </td> <td>Golden State Warriors</td> <td>2177483 </td>\n",
       "        </tr>\n",
       "        <tr>\n",
       "            <td>332 </td> <td>Jordan Poole       </td> <td>SG      </td> <td>Golden State Warriors</td> <td>1964760 </td>\n",
       "        </tr>\n",
       "        <tr>\n",
       "            <td>339 </td> <td>Omari Spellman     </td> <td>PF      </td> <td>Golden State Warriors</td> <td>1897800 </td>\n",
       "        </tr>\n",
       "        <tr>\n",
       "            <td>496 </td> <td>Alen Smailagic     </td> <td>PF      </td> <td>Golden State Warriors</td> <td>898310  </td>\n",
       "        </tr>\n",
       "        <tr>\n",
       "            <td>497 </td> <td>Eric Paschall      </td> <td>PF      </td> <td>Golden State Warriors</td> <td>898310  </td>\n",
       "        </tr>\n",
       "        <tr>\n",
       "            <td>502 </td> <td>Damion Lee         </td> <td>SG      </td> <td>Golden State Warriors</td> <td>842327  </td>\n",
       "        </tr>\n",
       "    </tbody>\n",
       "</table>\n",
       "<p>... (3 rows omitted)</p>"
      ],
      "text/plain": [
       "rank | name                | position | team                  | $\n",
       "1    | Stephen Curry       | PG       | Golden State Warriors | 40231758\n",
       "13   | Klay Thompson       | SG       | Golden State Warriors | 32742000\n",
       "60   | Draymond Green      | PF       | Golden State Warriors | 18539130\n",
       "223  | Kevon Looney        | PF       | Golden State Warriors | 4464226\n",
       "316  | Willie Cauley-Stein | C        | Golden State Warriors | 2177483\n",
       "332  | Jordan Poole        | SG       | Golden State Warriors | 1964760\n",
       "339  | Omari Spellman      | PF       | Golden State Warriors | 1897800\n",
       "496  | Alen Smailagic      | PF       | Golden State Warriors | 898310\n",
       "497  | Eric Paschall       | PF       | Golden State Warriors | 898310\n",
       "502  | Damion Lee          | SG       | Golden State Warriors | 842327\n",
       "... (3 rows omitted)"
      ]
     },
     "execution_count": 27,
     "metadata": {},
     "output_type": "execute_result"
    }
   ],
   "source": [
    "warriors.relabeled('salary', '$')"
   ]
  },
  {
   "cell_type": "code",
   "execution_count": 28,
   "metadata": {},
   "outputs": [
    {
     "data": {
      "text/html": [
       "<table border=\"1\" class=\"dataframe\">\n",
       "    <thead>\n",
       "        <tr>\n",
       "            <th>rank</th> <th>name</th> <th>position</th> <th>team</th> <th>salary</th>\n",
       "        </tr>\n",
       "    </thead>\n",
       "    <tbody>\n",
       "        <tr>\n",
       "            <td>1   </td> <td>Stephen Curry      </td> <td>PG      </td> <td>Golden State Warriors</td> <td>40231758</td>\n",
       "        </tr>\n",
       "        <tr>\n",
       "            <td>13  </td> <td>Klay Thompson      </td> <td>SG      </td> <td>Golden State Warriors</td> <td>32742000</td>\n",
       "        </tr>\n",
       "        <tr>\n",
       "            <td>60  </td> <td>Draymond Green     </td> <td>PF      </td> <td>Golden State Warriors</td> <td>18539130</td>\n",
       "        </tr>\n",
       "        <tr>\n",
       "            <td>223 </td> <td>Kevon Looney       </td> <td>PF      </td> <td>Golden State Warriors</td> <td>4464226 </td>\n",
       "        </tr>\n",
       "        <tr>\n",
       "            <td>316 </td> <td>Willie Cauley-Stein</td> <td>C       </td> <td>Golden State Warriors</td> <td>2177483 </td>\n",
       "        </tr>\n",
       "        <tr>\n",
       "            <td>332 </td> <td>Jordan Poole       </td> <td>SG      </td> <td>Golden State Warriors</td> <td>1964760 </td>\n",
       "        </tr>\n",
       "        <tr>\n",
       "            <td>339 </td> <td>Omari Spellman     </td> <td>PF      </td> <td>Golden State Warriors</td> <td>1897800 </td>\n",
       "        </tr>\n",
       "        <tr>\n",
       "            <td>496 </td> <td>Alen Smailagic     </td> <td>PF      </td> <td>Golden State Warriors</td> <td>898310  </td>\n",
       "        </tr>\n",
       "        <tr>\n",
       "            <td>497 </td> <td>Eric Paschall      </td> <td>PF      </td> <td>Golden State Warriors</td> <td>898310  </td>\n",
       "        </tr>\n",
       "        <tr>\n",
       "            <td>502 </td> <td>Damion Lee         </td> <td>SG      </td> <td>Golden State Warriors</td> <td>842327  </td>\n",
       "        </tr>\n",
       "    </tbody>\n",
       "</table>\n",
       "<p>... (3 rows omitted)</p>"
      ],
      "text/plain": [
       "rank | name                | position | team                  | salary\n",
       "1    | Stephen Curry       | PG       | Golden State Warriors | 40231758\n",
       "13   | Klay Thompson       | SG       | Golden State Warriors | 32742000\n",
       "60   | Draymond Green      | PF       | Golden State Warriors | 18539130\n",
       "223  | Kevon Looney        | PF       | Golden State Warriors | 4464226\n",
       "316  | Willie Cauley-Stein | C        | Golden State Warriors | 2177483\n",
       "332  | Jordan Poole        | SG       | Golden State Warriors | 1964760\n",
       "339  | Omari Spellman      | PF       | Golden State Warriors | 1897800\n",
       "496  | Alen Smailagic      | PF       | Golden State Warriors | 898310\n",
       "497  | Eric Paschall       | PF       | Golden State Warriors | 898310\n",
       "502  | Damion Lee          | SG       | Golden State Warriors | 842327\n",
       "... (3 rows omitted)"
      ]
     },
     "execution_count": 28,
     "metadata": {},
     "output_type": "execute_result"
    }
   ],
   "source": [
    "warriors"
   ]
  },
  {
   "cell_type": "code",
   "execution_count": 29,
   "metadata": {},
   "outputs": [
    {
     "data": {
      "text/html": [
       "<table border=\"1\" class=\"dataframe\">\n",
       "    <thead>\n",
       "        <tr>\n",
       "            <th>rank</th> <th>name</th> <th>position</th> <th>$</th>\n",
       "        </tr>\n",
       "    </thead>\n",
       "    <tbody>\n",
       "        <tr>\n",
       "            <td>1   </td> <td>Stephen Curry </td> <td>PG      </td> <td>40231758</td>\n",
       "        </tr>\n",
       "        <tr>\n",
       "            <td>13  </td> <td>Klay Thompson </td> <td>SG      </td> <td>32742000</td>\n",
       "        </tr>\n",
       "        <tr>\n",
       "            <td>60  </td> <td>Draymond Green</td> <td>PF      </td> <td>18539130</td>\n",
       "        </tr>\n",
       "    </tbody>\n",
       "</table>\n",
       "<p>... (10 rows omitted)</p>"
      ],
      "text/plain": [
       "<IPython.core.display.HTML object>"
      ]
     },
     "metadata": {},
     "output_type": "display_data"
    }
   ],
   "source": [
    "warriors = nba.where('team', 'Golden State Warriors').drop('team').relabeled('salary', '$')\n",
    "warriors.show(3)"
   ]
  },
  {
   "cell_type": "code",
   "execution_count": 30,
   "metadata": {
    "scrolled": true
   },
   "outputs": [
    {
     "data": {
      "text/html": [
       "<table border=\"1\" class=\"dataframe\">\n",
       "    <thead>\n",
       "        <tr>\n",
       "            <th>$</th>\n",
       "        </tr>\n",
       "    </thead>\n",
       "    <tbody>\n",
       "        <tr>\n",
       "            <td>40231758</td>\n",
       "        </tr>\n",
       "        <tr>\n",
       "            <td>32742000</td>\n",
       "        </tr>\n",
       "        <tr>\n",
       "            <td>18539130</td>\n",
       "        </tr>\n",
       "        <tr>\n",
       "            <td>4464226 </td>\n",
       "        </tr>\n",
       "        <tr>\n",
       "            <td>2177483 </td>\n",
       "        </tr>\n",
       "        <tr>\n",
       "            <td>1964760 </td>\n",
       "        </tr>\n",
       "        <tr>\n",
       "            <td>1897800 </td>\n",
       "        </tr>\n",
       "        <tr>\n",
       "            <td>898310  </td>\n",
       "        </tr>\n",
       "        <tr>\n",
       "            <td>898310  </td>\n",
       "        </tr>\n",
       "        <tr>\n",
       "            <td>842327  </td>\n",
       "        </tr>\n",
       "    </tbody>\n",
       "</table>\n",
       "<p>... (3 rows omitted)</p>"
      ],
      "text/plain": [
       "$\n",
       "40231758\n",
       "32742000\n",
       "18539130\n",
       "4464226\n",
       "2177483\n",
       "1964760\n",
       "1897800\n",
       "898310\n",
       "898310\n",
       "842327\n",
       "... (3 rows omitted)"
      ]
     },
     "execution_count": 30,
     "metadata": {},
     "output_type": "execute_result"
    }
   ],
   "source": [
    "warriors.select('$')"
   ]
  },
  {
   "cell_type": "code",
   "execution_count": 31,
   "metadata": {},
   "outputs": [
    {
     "data": {
      "text/plain": [
       "datascience.tables.Table"
      ]
     },
     "execution_count": 31,
     "metadata": {},
     "output_type": "execute_result"
    }
   ],
   "source": [
    "type(warriors.select('$'))"
   ]
  },
  {
   "cell_type": "code",
   "execution_count": 32,
   "metadata": {},
   "outputs": [
    {
     "ename": "IndentationError",
     "evalue": "unexpected indent (3356145488.py, line 2)",
     "output_type": "error",
     "traceback": [
      "\u001b[0;36m  Cell \u001b[0;32mIn[32], line 2\u001b[0;36m\u001b[0m\n\u001b[0;31m    np.average(warriors.select('$'))\u001b[0m\n\u001b[0m    ^\u001b[0m\n\u001b[0;31mIndentationError\u001b[0m\u001b[0;31m:\u001b[0m unexpected indent\n"
     ]
    }
   ],
   "source": [
    "# This will produce an error\n",
    "np.average(warriors.select('$'))"
   ]
  },
  {
   "cell_type": "code",
   "execution_count": 33,
   "metadata": {},
   "outputs": [
    {
     "data": {
      "text/plain": [
       "array([40231758, 32742000, 18539130,  4464226,  2177483,  1964760,\n",
       "        1897800,   898310,   898310,   842327,   654469,   350189,   350189])"
      ]
     },
     "execution_count": 33,
     "metadata": {},
     "output_type": "execute_result"
    }
   ],
   "source": [
    "warriors.column('$')"
   ]
  },
  {
   "cell_type": "code",
   "execution_count": 34,
   "metadata": {},
   "outputs": [
    {
     "data": {
      "text/plain": [
       "numpy.ndarray"
      ]
     },
     "execution_count": 34,
     "metadata": {},
     "output_type": "execute_result"
    }
   ],
   "source": [
    "type(warriors.column('$'))"
   ]
  },
  {
   "cell_type": "code",
   "execution_count": 35,
   "metadata": {},
   "outputs": [
    {
     "data": {
      "text/plain": [
       "8154688.538461538"
      ]
     },
     "execution_count": 35,
     "metadata": {},
     "output_type": "execute_result"
    }
   ],
   "source": [
    "np.average(warriors.column('$'))"
   ]
  },
  {
   "cell_type": "code",
   "execution_count": 36,
   "metadata": {},
   "outputs": [
    {
     "data": {
      "text/plain": [
       "array([40231758, 32742000, 18539130,  4464226,  2177483,  1964760,\n",
       "        1897800,   898310,   898310,   842327,   654469,   350189,   350189])"
      ]
     },
     "execution_count": 36,
     "metadata": {},
     "output_type": "execute_result"
    }
   ],
   "source": [
    "# another way\n",
    "warriors.column(3)"
   ]
  },
  {
   "cell_type": "code",
   "execution_count": 37,
   "metadata": {},
   "outputs": [],
   "source": [
    "suns = nba.where('team', 'Phoenix Suns').drop('team').relabeled('salary', '$')"
   ]
  },
  {
   "cell_type": "code",
   "execution_count": 38,
   "metadata": {},
   "outputs": [
    {
     "data": {
      "text/plain": [
       "2393314.5910931174"
      ]
     },
     "execution_count": 38,
     "metadata": {},
     "output_type": "execute_result"
    }
   ],
   "source": [
    "np.average(warriors.column('$')) - np.average(suns.column('$'))"
   ]
  },
  {
   "cell_type": "code",
   "execution_count": 39,
   "metadata": {},
   "outputs": [
    {
     "data": {
      "text/plain": [
       "-3455154"
      ]
     },
     "execution_count": 39,
     "metadata": {},
     "output_type": "execute_result"
    }
   ],
   "source": [
    "np.sum(warriors.column('$')) - np.sum(suns.column('$'))"
   ]
  },
  {
   "cell_type": "markdown",
   "metadata": {},
   "source": [
    "**Activity:** What was the average rank of players on the Golden State Warriors in 2020?"
   ]
  },
  {
   "cell_type": "code",
   "execution_count": 56,
   "metadata": {},
   "outputs": [
    {
     "data": {
      "text/plain": [
       "332.92307692307691"
      ]
     },
     "execution_count": 56,
     "metadata": {},
     "output_type": "execute_result"
    }
   ],
   "source": [
    "np.average(warriors.column('rank'))"
   ]
  },
  {
   "cell_type": "code",
   "execution_count": 40,
   "metadata": {
    "tags": []
   },
   "outputs": [
    {
     "data": {
      "text/html": [
       "<table border=\"1\" class=\"dataframe\">\n",
       "    <thead>\n",
       "        <tr>\n",
       "            <th>rank</th> <th>name</th> <th>position</th> <th>team</th> <th>salary</th>\n",
       "        </tr>\n",
       "    </thead>\n",
       "    <tbody>\n",
       "        <tr>\n",
       "            <td>1   </td> <td>Stephen Curry</td> <td>PG      </td> <td>Golden State Warriors</td> <td>40231758</td>\n",
       "        </tr>\n",
       "    </tbody>\n",
       "</table>"
      ],
      "text/plain": [
       "rank | name          | position | team                  | salary\n",
       "1    | Stephen Curry | PG       | Golden State Warriors | 40231758"
      ]
     },
     "execution_count": 40,
     "metadata": {},
     "output_type": "execute_result"
    }
   ],
   "source": [
    "# A note about taking rows\n",
    "nba.take(0)"
   ]
  },
  {
   "cell_type": "markdown",
   "metadata": {
    "tags": []
   },
   "source": [
    "## Ranges ##"
   ]
  },
  {
   "cell_type": "code",
   "execution_count": 41,
   "metadata": {},
   "outputs": [
    {
     "data": {
      "text/plain": [
       "array([0, 1, 2, 3, 4, 5, 6])"
      ]
     },
     "execution_count": 41,
     "metadata": {},
     "output_type": "execute_result"
    }
   ],
   "source": [
    "make_array(0, 1, 2, 3, 4, 5, 6)"
   ]
  },
  {
   "cell_type": "code",
   "execution_count": 42,
   "metadata": {},
   "outputs": [
    {
     "data": {
      "text/plain": [
       "array([0, 1, 2, 3, 4, 5, 6])"
      ]
     },
     "execution_count": 42,
     "metadata": {},
     "output_type": "execute_result"
    }
   ],
   "source": [
    "np.arange(7)"
   ]
  },
  {
   "cell_type": "code",
   "execution_count": 43,
   "metadata": {},
   "outputs": [
    {
     "data": {
      "text/plain": [
       "array([ 5,  6,  7,  8,  9, 10])"
      ]
     },
     "execution_count": 43,
     "metadata": {},
     "output_type": "execute_result"
    }
   ],
   "source": [
    "np.arange(5, 11)"
   ]
  },
  {
   "cell_type": "code",
   "execution_count": 44,
   "metadata": {},
   "outputs": [
    {
     "data": {
      "text/plain": [
       "array([ 0,  2,  4,  6,  8, 10, 12, 14, 16, 18])"
      ]
     },
     "execution_count": 44,
     "metadata": {},
     "output_type": "execute_result"
    }
   ],
   "source": [
    "np.arange(0, 20, 2)"
   ]
  },
  {
   "cell_type": "code",
   "execution_count": 45,
   "metadata": {},
   "outputs": [
    {
     "data": {
      "text/plain": [
       "array([ 0,  2,  4,  6,  8, 10, 12, 14, 16, 18, 20])"
      ]
     },
     "execution_count": 45,
     "metadata": {},
     "output_type": "execute_result"
    }
   ],
   "source": [
    "np.arange(0, 21, 2)"
   ]
  },
  {
   "cell_type": "code",
   "execution_count": 46,
   "metadata": {},
   "outputs": [
    {
     "data": {
      "text/plain": [
       "array([ 0. ,  0.1,  0.2,  0.3,  0.4,  0.5,  0.6,  0.7,  0.8,  0.9])"
      ]
     },
     "execution_count": 46,
     "metadata": {},
     "output_type": "execute_result"
    }
   ],
   "source": [
    "np.arange(0, 1, 0.1)"
   ]
  },
  {
   "cell_type": "markdown",
   "metadata": {},
   "source": [
    "**Activity:** How many odd numbers are there between 5 and 75 (inclusive)?\n",
    "*Hint* Create the relevant array then apply a function to determine how many elements are in it.  "
   ]
  },
  {
   "cell_type": "code",
   "execution_count": 55,
   "metadata": {},
   "outputs": [
    {
     "data": {
      "text/plain": [
       "36"
      ]
     },
     "execution_count": 55,
     "metadata": {},
     "output_type": "execute_result"
    }
   ],
   "source": [
    "len(np.arange(5,76,2))"
   ]
  },
  {
   "cell_type": "markdown",
   "metadata": {},
   "source": [
    "# Ways to Create a Table #\n",
    "\n",
    "## Creating a Table from Scratch ##"
   ]
  },
  {
   "cell_type": "code",
   "execution_count": null,
   "metadata": {},
   "outputs": [],
   "source": [
    "streets = make_array('14th', '13th', '12th', '11th')\n",
    "streets"
   ]
  },
  {
   "cell_type": "code",
   "execution_count": null,
   "metadata": {},
   "outputs": [],
   "source": [
    "Table()"
   ]
  },
  {
   "cell_type": "code",
   "execution_count": null,
   "metadata": {},
   "outputs": [],
   "source": [
    "southside = Table().with_column('Streets', streets)\n",
    "southside"
   ]
  },
  {
   "cell_type": "code",
   "execution_count": null,
   "metadata": {},
   "outputs": [],
   "source": [
    "southside.with_column('Blocks from campus', np.arange(4))"
   ]
  },
  {
   "cell_type": "code",
   "execution_count": null,
   "metadata": {},
   "outputs": [],
   "source": [
    "southside"
   ]
  },
  {
   "cell_type": "code",
   "execution_count": null,
   "metadata": {},
   "outputs": [],
   "source": [
    "southside = southside.with_column('Blocks from campus', np.arange(4))\n",
    "southside"
   ]
  },
  {
   "cell_type": "code",
   "execution_count": null,
   "metadata": {},
   "outputs": [],
   "source": [
    "Table().with_columns(\n",
    "    'Streets', streets,\n",
    "    'Blocks from campus', np.arange(4)\n",
    ")"
   ]
  },
  {
   "cell_type": "markdown",
   "metadata": {},
   "source": [
    "## Reading a Table from a File  ##"
   ]
  },
  {
   "cell_type": "code",
   "execution_count": 57,
   "metadata": {},
   "outputs": [
    {
     "data": {
      "text/html": [
       "<table border=\"1\" class=\"dataframe\">\n",
       "    <thead>\n",
       "        <tr>\n",
       "            <th>CLASS</th> <th>ACTUAL AVERAGE</th> <th>RENT</th> <th>FOOD</th> <th>CLOTHES</th> <th>TAXES</th> <th>OTHER</th> <th>STATUS</th>\n",
       "        </tr>\n",
       "    </thead>\n",
       "    <tbody>\n",
       "        <tr>\n",
       "            <td>100-200      </td> <td>139.1         </td> <td>0.19</td> <td>0.43</td> <td>0.28   </td> <td>0.001</td> <td>0.099</td> <td>POOR       </td>\n",
       "        </tr>\n",
       "        <tr>\n",
       "            <td>200-300      </td> <td>249.45        </td> <td>0.22</td> <td>0.47</td> <td>0.23   </td> <td>0.04 </td> <td>0.04 </td> <td>POOR       </td>\n",
       "        </tr>\n",
       "        <tr>\n",
       "            <td>300-400      </td> <td>335.66        </td> <td>0.23</td> <td>0.43</td> <td>0.18   </td> <td>0.045</td> <td>0.115</td> <td>FAIR       </td>\n",
       "        </tr>\n",
       "        <tr>\n",
       "            <td>400-500      </td> <td>433.82        </td> <td>0.18</td> <td>0.37</td> <td>0.15   </td> <td>0.055</td> <td>0.245</td> <td>FAIR       </td>\n",
       "        </tr>\n",
       "        <tr>\n",
       "            <td>500-750      </td> <td>547           </td> <td>0.13</td> <td>0.31</td> <td>0.17   </td> <td>0.05 </td> <td>0.34 </td> <td>COMFORTABLE</td>\n",
       "        </tr>\n",
       "        <tr>\n",
       "            <td>750-1000     </td> <td>880           </td> <td>0   </td> <td>0.37</td> <td>0.19   </td> <td>0.08 </td> <td>0.36 </td> <td>COMFORTABLE</td>\n",
       "        </tr>\n",
       "        <tr>\n",
       "            <td>1000 and over</td> <td>1125          </td> <td>0   </td> <td>0.29</td> <td>0.16   </td> <td>0.045</td> <td>0.505</td> <td>WELL-TO-DO </td>\n",
       "        </tr>\n",
       "    </tbody>\n",
       "</table>"
      ],
      "text/plain": [
       "CLASS         | ACTUAL AVERAGE | RENT | FOOD | CLOTHES | TAXES | OTHER | STATUS\n",
       "100-200       | 139.1          | 0.19 | 0.43 | 0.28    | 0.001 | 0.099 | POOR\n",
       "200-300       | 249.45         | 0.22 | 0.47 | 0.23    | 0.04  | 0.04  | POOR\n",
       "300-400       | 335.66         | 0.23 | 0.43 | 0.18    | 0.045 | 0.115 | FAIR\n",
       "400-500       | 433.82         | 0.18 | 0.37 | 0.15    | 0.055 | 0.245 | FAIR\n",
       "500-750       | 547            | 0.13 | 0.31 | 0.17    | 0.05  | 0.34  | COMFORTABLE\n",
       "750-1000      | 880            | 0    | 0.37 | 0.19    | 0.08  | 0.36  | COMFORTABLE\n",
       "1000 and over | 1125           | 0    | 0.29 | 0.16    | 0.045 | 0.505 | WELL-TO-DO"
      ]
     },
     "execution_count": 57,
     "metadata": {},
     "output_type": "execute_result"
    }
   ],
   "source": [
    "du_bois = Table.read_table('du_bois.csv')\n",
    "du_bois"
   ]
  },
  {
   "cell_type": "code",
   "execution_count": 58,
   "metadata": {},
   "outputs": [
    {
     "data": {
      "text/plain": [
       "array([  139.1 ,   249.45,   335.66,   433.82,   547.  ,   880.  ,  1125.  ])"
      ]
     },
     "execution_count": 58,
     "metadata": {},
     "output_type": "execute_result"
    }
   ],
   "source": [
    "du_bois.column('ACTUAL AVERAGE')"
   ]
  },
  {
   "cell_type": "code",
   "execution_count": 59,
   "metadata": {},
   "outputs": [
    {
     "data": {
      "text/plain": [
       "array([ 0.43,  0.47,  0.43,  0.37,  0.31,  0.37,  0.29])"
      ]
     },
     "execution_count": 59,
     "metadata": {},
     "output_type": "execute_result"
    }
   ],
   "source": [
    "du_bois.column('FOOD')"
   ]
  },
  {
   "cell_type": "code",
   "execution_count": 60,
   "metadata": {},
   "outputs": [
    {
     "data": {
      "text/plain": [
       "array([  59.813 ,  117.2415,  144.3338,  160.5134,  169.57  ,  325.6   ,\n",
       "        326.25  ])"
      ]
     },
     "execution_count": 60,
     "metadata": {},
     "output_type": "execute_result"
    }
   ],
   "source": [
    "du_bois.column('ACTUAL AVERAGE') * du_bois.column('FOOD')"
   ]
  },
  {
   "cell_type": "code",
   "execution_count": 61,
   "metadata": {},
   "outputs": [
    {
     "data": {
      "text/html": [
       "<table border=\"1\" class=\"dataframe\">\n",
       "    <thead>\n",
       "        <tr>\n",
       "            <th>CLASS</th> <th>ACTUAL AVERAGE</th> <th>RENT</th> <th>FOOD</th> <th>CLOTHES</th> <th>TAXES</th> <th>OTHER</th> <th>STATUS</th> <th>Food $</th>\n",
       "        </tr>\n",
       "    </thead>\n",
       "    <tbody>\n",
       "        <tr>\n",
       "            <td>100-200      </td> <td>139.1         </td> <td>0.19</td> <td>0.43</td> <td>0.28   </td> <td>0.001</td> <td>0.099</td> <td>POOR       </td> <td>59.813 </td>\n",
       "        </tr>\n",
       "        <tr>\n",
       "            <td>200-300      </td> <td>249.45        </td> <td>0.22</td> <td>0.47</td> <td>0.23   </td> <td>0.04 </td> <td>0.04 </td> <td>POOR       </td> <td>117.241</td>\n",
       "        </tr>\n",
       "        <tr>\n",
       "            <td>300-400      </td> <td>335.66        </td> <td>0.23</td> <td>0.43</td> <td>0.18   </td> <td>0.045</td> <td>0.115</td> <td>FAIR       </td> <td>144.334</td>\n",
       "        </tr>\n",
       "        <tr>\n",
       "            <td>400-500      </td> <td>433.82        </td> <td>0.18</td> <td>0.37</td> <td>0.15   </td> <td>0.055</td> <td>0.245</td> <td>FAIR       </td> <td>160.513</td>\n",
       "        </tr>\n",
       "        <tr>\n",
       "            <td>500-750      </td> <td>547           </td> <td>0.13</td> <td>0.31</td> <td>0.17   </td> <td>0.05 </td> <td>0.34 </td> <td>COMFORTABLE</td> <td>169.57 </td>\n",
       "        </tr>\n",
       "        <tr>\n",
       "            <td>750-1000     </td> <td>880           </td> <td>0   </td> <td>0.37</td> <td>0.19   </td> <td>0.08 </td> <td>0.36 </td> <td>COMFORTABLE</td> <td>325.6  </td>\n",
       "        </tr>\n",
       "        <tr>\n",
       "            <td>1000 and over</td> <td>1125          </td> <td>0   </td> <td>0.29</td> <td>0.16   </td> <td>0.045</td> <td>0.505</td> <td>WELL-TO-DO </td> <td>326.25 </td>\n",
       "        </tr>\n",
       "    </tbody>\n",
       "</table>"
      ],
      "text/plain": [
       "CLASS         | ACTUAL AVERAGE | RENT | FOOD | CLOTHES | TAXES | OTHER | STATUS      | Food $\n",
       "100-200       | 139.1          | 0.19 | 0.43 | 0.28    | 0.001 | 0.099 | POOR        | 59.813\n",
       "200-300       | 249.45         | 0.22 | 0.47 | 0.23    | 0.04  | 0.04  | POOR        | 117.241\n",
       "300-400       | 335.66         | 0.23 | 0.43 | 0.18    | 0.045 | 0.115 | FAIR        | 144.334\n",
       "400-500       | 433.82         | 0.18 | 0.37 | 0.15    | 0.055 | 0.245 | FAIR        | 160.513\n",
       "500-750       | 547            | 0.13 | 0.31 | 0.17    | 0.05  | 0.34  | COMFORTABLE | 169.57\n",
       "750-1000      | 880            | 0    | 0.37 | 0.19    | 0.08  | 0.36  | COMFORTABLE | 325.6\n",
       "1000 and over | 1125           | 0    | 0.29 | 0.16    | 0.045 | 0.505 | WELL-TO-DO  | 326.25"
      ]
     },
     "execution_count": 61,
     "metadata": {},
     "output_type": "execute_result"
    }
   ],
   "source": [
    "food_dollars = du_bois.column('ACTUAL AVERAGE') * du_bois.column('FOOD')\n",
    "du_bois.with_column('Food $', food_dollars)"
   ]
  },
  {
   "cell_type": "code",
   "execution_count": 62,
   "metadata": {},
   "outputs": [
    {
     "data": {
      "text/html": [
       "<table border=\"1\" class=\"dataframe\">\n",
       "    <thead>\n",
       "        <tr>\n",
       "            <th>CLASS</th> <th>ACTUAL AVERAGE</th> <th>RENT</th> <th>FOOD</th> <th>CLOTHES</th> <th>TAXES</th> <th>OTHER</th> <th>STATUS</th> <th>Food $</th>\n",
       "        </tr>\n",
       "    </thead>\n",
       "    <tbody>\n",
       "        <tr>\n",
       "            <td>100-200      </td> <td>139.1         </td> <td>0.19</td> <td>0.43</td> <td>0.28   </td> <td>0.001</td> <td>0.099</td> <td>POOR       </td> <td>59.813 </td>\n",
       "        </tr>\n",
       "        <tr>\n",
       "            <td>200-300      </td> <td>249.45        </td> <td>0.22</td> <td>0.47</td> <td>0.23   </td> <td>0.04 </td> <td>0.04 </td> <td>POOR       </td> <td>117.241</td>\n",
       "        </tr>\n",
       "        <tr>\n",
       "            <td>300-400      </td> <td>335.66        </td> <td>0.23</td> <td>0.43</td> <td>0.18   </td> <td>0.045</td> <td>0.115</td> <td>FAIR       </td> <td>144.334</td>\n",
       "        </tr>\n",
       "        <tr>\n",
       "            <td>400-500      </td> <td>433.82        </td> <td>0.18</td> <td>0.37</td> <td>0.15   </td> <td>0.055</td> <td>0.245</td> <td>FAIR       </td> <td>160.513</td>\n",
       "        </tr>\n",
       "        <tr>\n",
       "            <td>500-750      </td> <td>547           </td> <td>0.13</td> <td>0.31</td> <td>0.17   </td> <td>0.05 </td> <td>0.34 </td> <td>COMFORTABLE</td> <td>169.57 </td>\n",
       "        </tr>\n",
       "        <tr>\n",
       "            <td>750-1000     </td> <td>880           </td> <td>0   </td> <td>0.37</td> <td>0.19   </td> <td>0.08 </td> <td>0.36 </td> <td>COMFORTABLE</td> <td>325.6  </td>\n",
       "        </tr>\n",
       "        <tr>\n",
       "            <td>1000 and over</td> <td>1125          </td> <td>0   </td> <td>0.29</td> <td>0.16   </td> <td>0.045</td> <td>0.505</td> <td>WELL-TO-DO </td> <td>326.25 </td>\n",
       "        </tr>\n",
       "    </tbody>\n",
       "</table>"
      ],
      "text/plain": [
       "CLASS         | ACTUAL AVERAGE | RENT | FOOD | CLOTHES | TAXES | OTHER | STATUS      | Food $\n",
       "100-200       | 139.1          | 0.19 | 0.43 | 0.28    | 0.001 | 0.099 | POOR        | 59.813\n",
       "200-300       | 249.45         | 0.22 | 0.47 | 0.23    | 0.04  | 0.04  | POOR        | 117.241\n",
       "300-400       | 335.66         | 0.23 | 0.43 | 0.18    | 0.045 | 0.115 | FAIR        | 144.334\n",
       "400-500       | 433.82         | 0.18 | 0.37 | 0.15    | 0.055 | 0.245 | FAIR        | 160.513\n",
       "500-750       | 547            | 0.13 | 0.31 | 0.17    | 0.05  | 0.34  | COMFORTABLE | 169.57\n",
       "750-1000      | 880            | 0    | 0.37 | 0.19    | 0.08  | 0.36  | COMFORTABLE | 325.6\n",
       "1000 and over | 1125           | 0    | 0.29 | 0.16    | 0.045 | 0.505 | WELL-TO-DO  | 326.25"
      ]
     },
     "execution_count": 62,
     "metadata": {},
     "output_type": "execute_result"
    }
   ],
   "source": [
    "du_bois = du_bois.with_column('Food $', food_dollars)\n",
    "du_bois"
   ]
  },
  {
   "cell_type": "code",
   "execution_count": 63,
   "metadata": {},
   "outputs": [
    {
     "data": {
      "text/plain": [
       "326.25"
      ]
     },
     "execution_count": 63,
     "metadata": {},
     "output_type": "execute_result"
    }
   ],
   "source": [
    "np.max(du_bois.column('Food $'))"
   ]
  },
  {
   "cell_type": "code",
   "execution_count": 64,
   "metadata": {},
   "outputs": [
    {
     "data": {
      "text/html": [
       "<table border=\"1\" class=\"dataframe\">\n",
       "    <thead>\n",
       "        <tr>\n",
       "            <th>CLASS</th> <th>ACTUAL AVERAGE</th> <th>RENT</th> <th>FOOD</th> <th>CLOTHES</th> <th>TAXES</th> <th>OTHER</th> <th>STATUS</th> <th>Food $</th> <th>Fraction of well-to-do food $</th>\n",
       "        </tr>\n",
       "    </thead>\n",
       "    <tbody>\n",
       "        <tr>\n",
       "            <td>100-200      </td> <td>139.1         </td> <td>0.19</td> <td>0.43</td> <td>0.28   </td> <td>0.001</td> <td>0.099</td> <td>POOR       </td> <td>59.813 </td> <td>0.183335                     </td>\n",
       "        </tr>\n",
       "        <tr>\n",
       "            <td>200-300      </td> <td>249.45        </td> <td>0.22</td> <td>0.47</td> <td>0.23   </td> <td>0.04 </td> <td>0.04 </td> <td>POOR       </td> <td>117.241</td> <td>0.359361                     </td>\n",
       "        </tr>\n",
       "        <tr>\n",
       "            <td>300-400      </td> <td>335.66        </td> <td>0.23</td> <td>0.43</td> <td>0.18   </td> <td>0.045</td> <td>0.115</td> <td>FAIR       </td> <td>144.334</td> <td>0.442402                     </td>\n",
       "        </tr>\n",
       "        <tr>\n",
       "            <td>400-500      </td> <td>433.82        </td> <td>0.18</td> <td>0.37</td> <td>0.15   </td> <td>0.055</td> <td>0.245</td> <td>FAIR       </td> <td>160.513</td> <td>0.491995                     </td>\n",
       "        </tr>\n",
       "        <tr>\n",
       "            <td>500-750      </td> <td>547           </td> <td>0.13</td> <td>0.31</td> <td>0.17   </td> <td>0.05 </td> <td>0.34 </td> <td>COMFORTABLE</td> <td>169.57 </td> <td>0.519755                     </td>\n",
       "        </tr>\n",
       "        <tr>\n",
       "            <td>750-1000     </td> <td>880           </td> <td>0   </td> <td>0.37</td> <td>0.19   </td> <td>0.08 </td> <td>0.36 </td> <td>COMFORTABLE</td> <td>325.6  </td> <td>0.998008                     </td>\n",
       "        </tr>\n",
       "        <tr>\n",
       "            <td>1000 and over</td> <td>1125          </td> <td>0   </td> <td>0.29</td> <td>0.16   </td> <td>0.045</td> <td>0.505</td> <td>WELL-TO-DO </td> <td>326.25 </td> <td>1                            </td>\n",
       "        </tr>\n",
       "    </tbody>\n",
       "</table>"
      ],
      "text/plain": [
       "CLASS         | ACTUAL AVERAGE | RENT | FOOD | CLOTHES | TAXES | OTHER | STATUS      | Food $  | Fraction of well-to-do food $\n",
       "100-200       | 139.1          | 0.19 | 0.43 | 0.28    | 0.001 | 0.099 | POOR        | 59.813  | 0.183335\n",
       "200-300       | 249.45         | 0.22 | 0.47 | 0.23    | 0.04  | 0.04  | POOR        | 117.241 | 0.359361\n",
       "300-400       | 335.66         | 0.23 | 0.43 | 0.18    | 0.045 | 0.115 | FAIR        | 144.334 | 0.442402\n",
       "400-500       | 433.82         | 0.18 | 0.37 | 0.15    | 0.055 | 0.245 | FAIR        | 160.513 | 0.491995\n",
       "500-750       | 547            | 0.13 | 0.31 | 0.17    | 0.05  | 0.34  | COMFORTABLE | 169.57  | 0.519755\n",
       "750-1000      | 880            | 0    | 0.37 | 0.19    | 0.08  | 0.36  | COMFORTABLE | 325.6   | 0.998008\n",
       "1000 and over | 1125           | 0    | 0.29 | 0.16    | 0.045 | 0.505 | WELL-TO-DO  | 326.25  | 1"
      ]
     },
     "execution_count": 64,
     "metadata": {},
     "output_type": "execute_result"
    }
   ],
   "source": [
    "du_bois.with_column(\n",
    "    'Fraction of well-to-do food $', \n",
    "    du_bois.column('Food $') / np.max(du_bois.column('Food $')))"
   ]
  },
  {
   "cell_type": "markdown",
   "metadata": {},
   "source": [
    "**Activity:** Use table functions we learned this week to find the income bracket (“class”) that spent the highest proportion of income on rent. "
   ]
  },
  {
   "cell_type": "code",
   "execution_count": 67,
   "metadata": {},
   "outputs": [
    {
     "data": {
      "text/plain": [
       "'300-400'"
      ]
     },
     "execution_count": 67,
     "metadata": {},
     "output_type": "execute_result"
    }
   ],
   "source": [
    "du_bois.sort('RENT',descending=True).column('CLASS').take(0)"
   ]
  },
  {
   "cell_type": "markdown",
   "metadata": {},
   "source": [
    "## Where Method"
   ]
  },
  {
   "cell_type": "code",
   "execution_count": null,
   "metadata": {
    "scrolled": true
   },
   "outputs": [],
   "source": [
    "nba.where('position', are.containing('G'))"
   ]
  },
  {
   "cell_type": "markdown",
   "metadata": {},
   "source": [
    "## Print and string formatting"
   ]
  },
  {
   "cell_type": "code",
   "execution_count": null,
   "metadata": {},
   "outputs": [],
   "source": [
    "1 + 2\n",
    "3 + 4"
   ]
  },
  {
   "cell_type": "code",
   "execution_count": null,
   "metadata": {},
   "outputs": [],
   "source": [
    "print(1 + 2)\n",
    "print(3 + 4)"
   ]
  },
  {
   "cell_type": "code",
   "execution_count": null,
   "metadata": {},
   "outputs": [],
   "source": [
    "'Go Humboldt!'"
   ]
  },
  {
   "cell_type": "code",
   "execution_count": null,
   "metadata": {},
   "outputs": [],
   "source": [
    "print('Go Humboldt!')"
   ]
  },
  {
   "cell_type": "code",
   "execution_count": null,
   "metadata": {},
   "outputs": [],
   "source": [
    "cph = 'Cal Poly Humboldt'"
   ]
  },
  {
   "cell_type": "code",
   "execution_count": null,
   "metadata": {},
   "outputs": [],
   "source": [
    "'{cph} is awesome'"
   ]
  },
  {
   "cell_type": "code",
   "execution_count": null,
   "metadata": {},
   "outputs": [],
   "source": [
    "f'{cph} is awesome'"
   ]
  },
  {
   "cell_type": "code",
   "execution_count": null,
   "metadata": {},
   "outputs": [],
   "source": [
    "print(f'{cph} is awesome!')\n",
    "print(f'{warriors.column(\"name\").item(0)} is pretty awesome too!')"
   ]
  }
 ],
 "metadata": {
  "kernelspec": {
   "display_name": "Python 3 (ipykernel)",
   "language": "python",
   "name": "python3"
  },
  "language_info": {
   "codemirror_mode": {
    "name": "ipython",
    "version": 3
   },
   "file_extension": ".py",
   "mimetype": "text/x-python",
   "name": "python",
   "nbconvert_exporter": "python",
   "pygments_lexer": "ipython3",
   "version": "3.11.4"
  }
 },
 "nbformat": 4,
 "nbformat_minor": 4
}
